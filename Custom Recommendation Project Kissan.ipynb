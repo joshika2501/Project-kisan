{
 "cells": [
  {
   "cell_type": "markdown",
   "id": "cc743039-85e2-414f-868e-db84e480f987",
   "metadata": {},
   "source": [
    "# Import libraries & check dataset"
   ]
  },
  {
   "cell_type": "code",
   "execution_count": 8,
   "id": "7a418eac-4e3a-40fb-9974-0ae6b22d4532",
   "metadata": {},
   "outputs": [
    {
     "name": "stdout",
     "output_type": "stream",
     "text": [
      "CSV files found: ['NIR Clay 45 2.csv', 'MIR Sand 105 0.71.csv', 'NIR Sand 105 0.71.csv', 'NIR Sand 105 2.csv', 'MIR Clay 45 0.71.csv', 'NIR Clay 105 0.2.csv', 'NIR Sand 45 2.csv', 'NIR Sand 45 0.25.csv', 'MIR Clay 105 2.csv', 'MIR Sand 45 0.25.csv', 'MIR Clay 105 0.2.csv', 'NIR Clay 45 0.71.csv', 'NIR Clay 105 2.csv', 'MIR Clay 45 2.csv', 'NIR Sand 45 0.71.csv', 'NIR Clay 105 0.71.csv', 'MIR Sand 105 0.2.csv', 'MIR Clay 105 0.71.csv', 'MIR Clay 45 0.25.csv', 'NIR Clay 45 0.25.csv', 'MIR Sand 105 2.csv', 'NIR Sand 105 0.2.csv', 'MIR Sand 45 0.71.csv', 'MIR Sand 45 2.csv']\n",
      "Combined dataset shape: (2400, 3986)\n"
     ]
    },
    {
     "data": {
      "text/html": [
       "<div>\n",
       "<style scoped>\n",
       "    .dataframe tbody tr th:only-of-type {\n",
       "        vertical-align: middle;\n",
       "    }\n",
       "\n",
       "    .dataframe tbody tr th {\n",
       "        vertical-align: top;\n",
       "    }\n",
       "\n",
       "    .dataframe thead th {\n",
       "        text-align: right;\n",
       "    }\n",
       "</style>\n",
       "<table border=\"1\" class=\"dataframe\">\n",
       "  <thead>\n",
       "    <tr style=\"text-align: right;\">\n",
       "      <th></th>\n",
       "      <th>sample_id</th>\n",
       "      <th>amplitude-450.0</th>\n",
       "      <th>amplitude-451.0</th>\n",
       "      <th>amplitude-452.0</th>\n",
       "      <th>amplitude-453.0</th>\n",
       "      <th>amplitude-454.0</th>\n",
       "      <th>amplitude-455.0</th>\n",
       "      <th>amplitude-456.0</th>\n",
       "      <th>amplitude-457.0</th>\n",
       "      <th>amplitude-458.0</th>\n",
       "      <th>...</th>\n",
       "      <th>amplitude-3983.633</th>\n",
       "      <th>amplitude-3985.497</th>\n",
       "      <th>amplitude-3987.3613</th>\n",
       "      <th>amplitude-3989.2253</th>\n",
       "      <th>amplitude-3991.0896</th>\n",
       "      <th>amplitude-3992.9536</th>\n",
       "      <th>amplitude-3994.8179</th>\n",
       "      <th>amplitude-3996.682</th>\n",
       "      <th>amplitude-3998.5461</th>\n",
       "      <th>amplitude-4000.4102</th>\n",
       "    </tr>\n",
       "  </thead>\n",
       "  <tbody>\n",
       "    <tr>\n",
       "      <th>0</th>\n",
       "      <td>1.0</td>\n",
       "      <td>1.381515</td>\n",
       "      <td>1.380588</td>\n",
       "      <td>1.380440</td>\n",
       "      <td>1.378851</td>\n",
       "      <td>1.376481</td>\n",
       "      <td>1.378072</td>\n",
       "      <td>1.378137</td>\n",
       "      <td>1.376888</td>\n",
       "      <td>1.375587</td>\n",
       "      <td>...</td>\n",
       "      <td>NaN</td>\n",
       "      <td>NaN</td>\n",
       "      <td>NaN</td>\n",
       "      <td>NaN</td>\n",
       "      <td>NaN</td>\n",
       "      <td>NaN</td>\n",
       "      <td>NaN</td>\n",
       "      <td>NaN</td>\n",
       "      <td>NaN</td>\n",
       "      <td>NaN</td>\n",
       "    </tr>\n",
       "    <tr>\n",
       "      <th>1</th>\n",
       "      <td>2.0</td>\n",
       "      <td>1.402217</td>\n",
       "      <td>1.401369</td>\n",
       "      <td>1.400620</td>\n",
       "      <td>1.398908</td>\n",
       "      <td>1.397335</td>\n",
       "      <td>1.400022</td>\n",
       "      <td>1.399366</td>\n",
       "      <td>1.397178</td>\n",
       "      <td>1.396320</td>\n",
       "      <td>...</td>\n",
       "      <td>NaN</td>\n",
       "      <td>NaN</td>\n",
       "      <td>NaN</td>\n",
       "      <td>NaN</td>\n",
       "      <td>NaN</td>\n",
       "      <td>NaN</td>\n",
       "      <td>NaN</td>\n",
       "      <td>NaN</td>\n",
       "      <td>NaN</td>\n",
       "      <td>NaN</td>\n",
       "    </tr>\n",
       "    <tr>\n",
       "      <th>2</th>\n",
       "      <td>3.0</td>\n",
       "      <td>1.388778</td>\n",
       "      <td>1.386939</td>\n",
       "      <td>1.386259</td>\n",
       "      <td>1.384286</td>\n",
       "      <td>1.381719</td>\n",
       "      <td>1.384275</td>\n",
       "      <td>1.384136</td>\n",
       "      <td>1.382224</td>\n",
       "      <td>1.380987</td>\n",
       "      <td>...</td>\n",
       "      <td>NaN</td>\n",
       "      <td>NaN</td>\n",
       "      <td>NaN</td>\n",
       "      <td>NaN</td>\n",
       "      <td>NaN</td>\n",
       "      <td>NaN</td>\n",
       "      <td>NaN</td>\n",
       "      <td>NaN</td>\n",
       "      <td>NaN</td>\n",
       "      <td>NaN</td>\n",
       "    </tr>\n",
       "    <tr>\n",
       "      <th>3</th>\n",
       "      <td>4.0</td>\n",
       "      <td>1.387715</td>\n",
       "      <td>1.388084</td>\n",
       "      <td>1.386115</td>\n",
       "      <td>1.383478</td>\n",
       "      <td>1.382264</td>\n",
       "      <td>1.384239</td>\n",
       "      <td>1.383426</td>\n",
       "      <td>1.381748</td>\n",
       "      <td>1.381541</td>\n",
       "      <td>...</td>\n",
       "      <td>NaN</td>\n",
       "      <td>NaN</td>\n",
       "      <td>NaN</td>\n",
       "      <td>NaN</td>\n",
       "      <td>NaN</td>\n",
       "      <td>NaN</td>\n",
       "      <td>NaN</td>\n",
       "      <td>NaN</td>\n",
       "      <td>NaN</td>\n",
       "      <td>NaN</td>\n",
       "    </tr>\n",
       "    <tr>\n",
       "      <th>4</th>\n",
       "      <td>5.0</td>\n",
       "      <td>1.371121</td>\n",
       "      <td>1.370850</td>\n",
       "      <td>1.369185</td>\n",
       "      <td>1.367091</td>\n",
       "      <td>1.366143</td>\n",
       "      <td>1.368028</td>\n",
       "      <td>1.367417</td>\n",
       "      <td>1.365984</td>\n",
       "      <td>1.365687</td>\n",
       "      <td>...</td>\n",
       "      <td>NaN</td>\n",
       "      <td>NaN</td>\n",
       "      <td>NaN</td>\n",
       "      <td>NaN</td>\n",
       "      <td>NaN</td>\n",
       "      <td>NaN</td>\n",
       "      <td>NaN</td>\n",
       "      <td>NaN</td>\n",
       "      <td>NaN</td>\n",
       "      <td>NaN</td>\n",
       "    </tr>\n",
       "  </tbody>\n",
       "</table>\n",
       "<p>5 rows × 3986 columns</p>\n",
       "</div>"
      ],
      "text/plain": [
       "   sample_id  amplitude-450.0  amplitude-451.0  amplitude-452.0  \\\n",
       "0        1.0         1.381515         1.380588         1.380440   \n",
       "1        2.0         1.402217         1.401369         1.400620   \n",
       "2        3.0         1.388778         1.386939         1.386259   \n",
       "3        4.0         1.387715         1.388084         1.386115   \n",
       "4        5.0         1.371121         1.370850         1.369185   \n",
       "\n",
       "   amplitude-453.0  amplitude-454.0  amplitude-455.0  amplitude-456.0  \\\n",
       "0         1.378851         1.376481         1.378072         1.378137   \n",
       "1         1.398908         1.397335         1.400022         1.399366   \n",
       "2         1.384286         1.381719         1.384275         1.384136   \n",
       "3         1.383478         1.382264         1.384239         1.383426   \n",
       "4         1.367091         1.366143         1.368028         1.367417   \n",
       "\n",
       "   amplitude-457.0  amplitude-458.0  ...  amplitude-3983.633  \\\n",
       "0         1.376888         1.375587  ...                 NaN   \n",
       "1         1.397178         1.396320  ...                 NaN   \n",
       "2         1.382224         1.380987  ...                 NaN   \n",
       "3         1.381748         1.381541  ...                 NaN   \n",
       "4         1.365984         1.365687  ...                 NaN   \n",
       "\n",
       "   amplitude-3985.497  amplitude-3987.3613  amplitude-3989.2253  \\\n",
       "0                 NaN                  NaN                  NaN   \n",
       "1                 NaN                  NaN                  NaN   \n",
       "2                 NaN                  NaN                  NaN   \n",
       "3                 NaN                  NaN                  NaN   \n",
       "4                 NaN                  NaN                  NaN   \n",
       "\n",
       "   amplitude-3991.0896  amplitude-3992.9536  amplitude-3994.8179  \\\n",
       "0                  NaN                  NaN                  NaN   \n",
       "1                  NaN                  NaN                  NaN   \n",
       "2                  NaN                  NaN                  NaN   \n",
       "3                  NaN                  NaN                  NaN   \n",
       "4                  NaN                  NaN                  NaN   \n",
       "\n",
       "   amplitude-3996.682  amplitude-3998.5461  amplitude-4000.4102  \n",
       "0                 NaN                  NaN                  NaN  \n",
       "1                 NaN                  NaN                  NaN  \n",
       "2                 NaN                  NaN                  NaN  \n",
       "3                 NaN                  NaN                  NaN  \n",
       "4                 NaN                  NaN                  NaN  \n",
       "\n",
       "[5 rows x 3986 columns]"
      ]
     },
     "execution_count": 8,
     "metadata": {},
     "output_type": "execute_result"
    }
   ],
   "source": [
    "import os\n",
    "import pandas as pd\n",
    "\n",
    "data_path = \"all\"\n",
    "\n",
    "# List all CSV files\n",
    "csv_files = [f for f in os.listdir(data_path) if f.endswith(\".csv\")]\n",
    "print(\"CSV files found:\", csv_files)\n",
    "\n",
    "dfs = []  # list to hold individual DataFrames\n",
    "\n",
    "for file in csv_files:\n",
    "    temp_df = pd.read_csv(os.path.join(data_path, file))\n",
    "    dfs.append(temp_df)\n",
    "\n",
    "# Concatenate all into a single DataFrame\n",
    "df = pd.concat(dfs, ignore_index=True)\n",
    "print(\"Combined dataset shape:\", df.shape)\n",
    "df.head()\n"
   ]
  },
  {
   "cell_type": "markdown",
   "id": "45e68617-90ab-49dc-98ba-1714c156aa40",
   "metadata": {},
   "source": [
    "# NAN value handling"
   ]
  },
  {
   "cell_type": "code",
   "execution_count": 9,
   "id": "fa955f07-c429-4868-b884-a1a556eea175",
   "metadata": {},
   "outputs": [
    {
     "name": "stdout",
     "output_type": "stream",
     "text": [
      "Missing values per column:\n",
      " amplitude-2442.0       1200\n",
      "amplitude-1534.1741    1200\n",
      "amplitude-1509.9404    1200\n",
      "amplitude-1511.8046    1200\n",
      "amplitude-1513.6687    1200\n",
      "amplitude-1515.5328    1200\n",
      "amplitude-1517.397     1200\n",
      "amplitude-1519.2611    1200\n",
      "amplitude-1521.1252    1200\n",
      "amplitude-1522.9894    1200\n",
      "amplitude-1524.8534    1200\n",
      "amplitude-1526.7175    1200\n",
      "amplitude-1528.5817    1200\n",
      "amplitude-1530.4458    1200\n",
      "amplitude-1532.3099    1200\n",
      "amplitude-1536.0382    1200\n",
      "amplitude-1681.4398    1200\n",
      "amplitude-1537.9023    1200\n",
      "amplitude-1539.7665    1200\n",
      "amplitude-1541.6306    1200\n",
      "dtype: int64\n"
     ]
    }
   ],
   "source": [
    "print(\"Missing values per column:\\n\", df.isna().sum().sort_values(ascending=False).head(20))"
   ]
  },
  {
   "cell_type": "code",
   "execution_count": 10,
   "id": "e7ace9e0-0016-4f1b-a8e5-5ce51c03606c",
   "metadata": {},
   "outputs": [
    {
     "name": "stdout",
     "output_type": "stream",
     "text": [
      "Shape after dropping high-NaN columns: (2400, 5)\n"
     ]
    }
   ],
   "source": [
    "# Drop columns with >50% missing\n",
    "threshold = 0.5\n",
    "df = df[df.columns[df.isna().mean() < threshold]]\n",
    "print(\"Shape after dropping high-NaN columns:\", df.shape)\n"
   ]
  },
  {
   "cell_type": "code",
   "execution_count": 11,
   "id": "bf1f0b06-c828-4100-9959-48e98f6f2d93",
   "metadata": {},
   "outputs": [],
   "source": [
    "# Fill remaining numerical NaNs with column mean\n",
    "df = df.fillna(df.mean())\n"
   ]
  },
  {
   "cell_type": "code",
   "execution_count": 12,
   "id": "63b69132-b2f0-4813-8d47-f9ec04c1257e",
   "metadata": {},
   "outputs": [
    {
     "name": "stdout",
     "output_type": "stream",
     "text": [
      "Total missing values after processing: 0\n"
     ]
    }
   ],
   "source": [
    "print(\"Total missing values after processing:\", df.isna().sum().sum())"
   ]
  },
  {
   "cell_type": "markdown",
   "id": "07ee4454-09ba-40ac-9afc-751008b47765",
   "metadata": {},
   "source": [
    "# Soil Fertility Classification"
   ]
  },
  {
   "cell_type": "code",
   "execution_count": 13,
   "id": "584fb619-ab26-4516-a2d2-45b882fa7071",
   "metadata": {},
   "outputs": [
    {
     "name": "stdout",
     "output_type": "stream",
     "text": [
      "Fertility class distribution:\n",
      " Fertility\n",
      "High Fertility      1164\n",
      "Low Fertility        756\n",
      "Medium Fertility     480\n",
      "Name: count, dtype: int64\n"
     ]
    }
   ],
   "source": [
    "# NPK column names\n",
    "col_N = \"N g.Kg-¹\"\n",
    "col_P = \"P mg.dm-³\"\n",
    "col_K = \"K mmolc.dm-³\"\n",
    "\n",
    "# Fertility classification function\n",
    "def classify_soil(N, P, K):\n",
    "    if N > 2 and P > 15 and K > 2:\n",
    "        return \"High Fertility\"\n",
    "    elif N > 1 and P > 8 and K > 1:\n",
    "        return \"Medium Fertility\"\n",
    "    else:\n",
    "        return \"Low Fertility\"\n",
    "\n",
    "df[\"Fertility\"] = df.apply(lambda row: classify_soil(row[col_N], row[col_P], row[col_K]), axis=1)\n",
    "print(\"Fertility class distribution:\\n\", df[\"Fertility\"].value_counts())\n"
   ]
  },
  {
   "cell_type": "markdown",
   "id": "60089690-5de3-4ef3-b208-e0408cc3d708",
   "metadata": {},
   "source": [
    "# Fertilizer Recommendation"
   ]
  },
  {
   "cell_type": "code",
   "execution_count": 14,
   "id": "97fa8667-64cd-487f-98ab-eb3cf3f22a4c",
   "metadata": {},
   "outputs": [
    {
     "data": {
      "text/html": [
       "<div>\n",
       "<style scoped>\n",
       "    .dataframe tbody tr th:only-of-type {\n",
       "        vertical-align: middle;\n",
       "    }\n",
       "\n",
       "    .dataframe tbody tr th {\n",
       "        vertical-align: top;\n",
       "    }\n",
       "\n",
       "    .dataframe thead th {\n",
       "        text-align: right;\n",
       "    }\n",
       "</style>\n",
       "<table border=\"1\" class=\"dataframe\">\n",
       "  <thead>\n",
       "    <tr style=\"text-align: right;\">\n",
       "      <th></th>\n",
       "      <th>Fertility</th>\n",
       "      <th>Recommendation</th>\n",
       "    </tr>\n",
       "  </thead>\n",
       "  <tbody>\n",
       "    <tr>\n",
       "      <th>0</th>\n",
       "      <td>Low Fertility</td>\n",
       "      <td>{'fertilizer': 'Urea', 'amount_kg_per_hectare'...</td>\n",
       "    </tr>\n",
       "    <tr>\n",
       "      <th>1</th>\n",
       "      <td>Low Fertility</td>\n",
       "      <td>{'fertilizer': 'Urea', 'amount_kg_per_hectare'...</td>\n",
       "    </tr>\n",
       "    <tr>\n",
       "      <th>2</th>\n",
       "      <td>Low Fertility</td>\n",
       "      <td>{'fertilizer': 'Urea', 'amount_kg_per_hectare'...</td>\n",
       "    </tr>\n",
       "    <tr>\n",
       "      <th>3</th>\n",
       "      <td>Low Fertility</td>\n",
       "      <td>{'fertilizer': 'Urea', 'amount_kg_per_hectare'...</td>\n",
       "    </tr>\n",
       "    <tr>\n",
       "      <th>4</th>\n",
       "      <td>Low Fertility</td>\n",
       "      <td>{'fertilizer': 'Urea', 'amount_kg_per_hectare'...</td>\n",
       "    </tr>\n",
       "    <tr>\n",
       "      <th>5</th>\n",
       "      <td>Low Fertility</td>\n",
       "      <td>{'fertilizer': 'Urea', 'amount_kg_per_hectare'...</td>\n",
       "    </tr>\n",
       "    <tr>\n",
       "      <th>6</th>\n",
       "      <td>Medium Fertility</td>\n",
       "      <td>{'fertilizer': 'DAP', 'amount_kg_per_hectare':...</td>\n",
       "    </tr>\n",
       "    <tr>\n",
       "      <th>7</th>\n",
       "      <td>High Fertility</td>\n",
       "      <td>{'fertilizer': 'MOP', 'amount_kg_per_hectare':...</td>\n",
       "    </tr>\n",
       "    <tr>\n",
       "      <th>8</th>\n",
       "      <td>High Fertility</td>\n",
       "      <td>{'fertilizer': 'MOP', 'amount_kg_per_hectare':...</td>\n",
       "    </tr>\n",
       "    <tr>\n",
       "      <th>9</th>\n",
       "      <td>High Fertility</td>\n",
       "      <td>{'fertilizer': 'MOP', 'amount_kg_per_hectare':...</td>\n",
       "    </tr>\n",
       "  </tbody>\n",
       "</table>\n",
       "</div>"
      ],
      "text/plain": [
       "          Fertility                                     Recommendation\n",
       "0     Low Fertility  {'fertilizer': 'Urea', 'amount_kg_per_hectare'...\n",
       "1     Low Fertility  {'fertilizer': 'Urea', 'amount_kg_per_hectare'...\n",
       "2     Low Fertility  {'fertilizer': 'Urea', 'amount_kg_per_hectare'...\n",
       "3     Low Fertility  {'fertilizer': 'Urea', 'amount_kg_per_hectare'...\n",
       "4     Low Fertility  {'fertilizer': 'Urea', 'amount_kg_per_hectare'...\n",
       "5     Low Fertility  {'fertilizer': 'Urea', 'amount_kg_per_hectare'...\n",
       "6  Medium Fertility  {'fertilizer': 'DAP', 'amount_kg_per_hectare':...\n",
       "7    High Fertility  {'fertilizer': 'MOP', 'amount_kg_per_hectare':...\n",
       "8    High Fertility  {'fertilizer': 'MOP', 'amount_kg_per_hectare':...\n",
       "9    High Fertility  {'fertilizer': 'MOP', 'amount_kg_per_hectare':..."
      ]
     },
     "execution_count": 14,
     "metadata": {},
     "output_type": "execute_result"
    }
   ],
   "source": [
    "# Example list of government-approved fertilizers\n",
    "govt_fertilizers = [\"Urea\", \"DAP\", \"MOP\", \"SSP\", \"Nitrophos\"]\n",
    "\n",
    "def recommend_fertilizer(fertility):\n",
    "    if fertility == \"High Fertility\":\n",
    "        fert = {\"fertilizer\": \"MOP\", \"amount_kg_per_hectare\": 50, \"interval_days\": 90}\n",
    "    elif fertility == \"Medium Fertility\":\n",
    "        fert = {\"fertilizer\": \"DAP\", \"amount_kg_per_hectare\": 100, \"interval_days\": 60}\n",
    "    else:  # Low Fertility\n",
    "        fert = {\"fertilizer\": \"Urea\", \"amount_kg_per_hectare\": 150, \"interval_days\": 45}\n",
    "    \n",
    "    # Check government approval\n",
    "    if fert[\"fertilizer\"] not in govt_fertilizers:\n",
    "        fert[\"fertilizer\"] = govt_fertilizers[0]  # replace with first approved fertilizer\n",
    "    \n",
    "    return fert\n",
    "\n",
    "# Apply recommendation\n",
    "df[\"Recommendation\"] = df[\"Fertility\"].apply(lambda x: recommend_fertilizer(x))\n",
    "\n",
    "# Display sample recommendations \n",
    "df[[\"Fertility\", \"Recommendation\"]].head(10)\n"
   ]
  },
  {
   "cell_type": "markdown",
   "id": "b03d245b-ca12-4fc7-b499-addc0b2c8017",
   "metadata": {},
   "source": [
    "# Prepare features and target"
   ]
  },
  {
   "cell_type": "code",
   "execution_count": 17,
   "id": "339e8ecb-5d7f-4e6a-aa93-9aef78bf8084",
   "metadata": {},
   "outputs": [
    {
     "name": "stdout",
     "output_type": "stream",
     "text": [
      "Numeric features used: 5\n"
     ]
    }
   ],
   "source": [
    "# Keep only numeric columns\n",
    "numeric_cols = df.select_dtypes(include=\"number\").columns\n",
    "X = df[numeric_cols]\n",
    "y = df[\"Fertility\"]\n",
    "\n",
    "# Split train/test\n",
    "from sklearn.model_selection import train_test_split\n",
    "X_train, X_test, y_train, y_test = train_test_split(\n",
    "    X, y, test_size=0.2, random_state=42, stratify=y\n",
    ")\n",
    "\n",
    "print(\"Numeric features used:\", X.shape[1])"
   ]
  },
  {
   "cell_type": "markdown",
   "id": "917a9976-d7b8-4489-a1e7-a30d0fe9ddd7",
   "metadata": {},
   "source": [
    "# Train RandomForest Classifier"
   ]
  },
  {
   "cell_type": "code",
   "execution_count": 18,
   "id": "c424f131-80b6-4c27-953a-c98b6d1b5987",
   "metadata": {},
   "outputs": [
    {
     "name": "stdout",
     "output_type": "stream",
     "text": [
      "Training Accuracy: 1.0000\n",
      "Testing Accuracy: 1.0000\n",
      "Confusion Matrix:\n",
      " [[233   0   0]\n",
      " [  0 151   0]\n",
      " [  0   0  96]]\n",
      "\n",
      "Classification Report:\n",
      "                   precision    recall  f1-score   support\n",
      "\n",
      "  High Fertility       1.00      1.00      1.00       233\n",
      "   Low Fertility       1.00      1.00      1.00       151\n",
      "Medium Fertility       1.00      1.00      1.00        96\n",
      "\n",
      "        accuracy                           1.00       480\n",
      "       macro avg       1.00      1.00      1.00       480\n",
      "    weighted avg       1.00      1.00      1.00       480\n",
      "\n"
     ]
    }
   ],
   "source": [
    "from sklearn.ensemble import RandomForestClassifier\n",
    "from sklearn.metrics import accuracy_score, classification_report, confusion_matrix\n",
    "\n",
    "model = RandomForestClassifier(n_estimators=200, random_state=42)\n",
    "model.fit(X_train, y_train)\n",
    "\n",
    "# Predictions\n",
    "y_train_pred = model.predict(X_train)\n",
    "y_test_pred = model.predict(X_test)\n",
    "\n",
    "# Accuracy\n",
    "print(f\"Training Accuracy: {accuracy_score(y_train, y_train_pred):.4f}\")\n",
    "print(f\"Testing Accuracy: {accuracy_score(y_test, y_test_pred):.4f}\")\n",
    "\n",
    "# Optional: Confusion matrix\n",
    "print(\"Confusion Matrix:\\n\", confusion_matrix(y_test, y_test_pred))\n",
    "print(\"\\nClassification Report:\\n\", classification_report(y_test, y_test_pred))"
   ]
  },
  {
   "cell_type": "code",
   "execution_count": 28,
   "id": "c9ce807a-aa1d-4931-ac23-1ece9e9d96a8",
   "metadata": {},
   "outputs": [],
   "source": [
    "def classify_soil(N, P, K):\n",
    "    if N < 1.5 or P < 10 or K < 1.0:\n",
    "        return \"Low Fertility\"\n",
    "    elif N > 2.5 or P > 20 or K > 2.0:\n",
    "        return \"High Fertility\"\n",
    "    else:\n",
    "        return \"Medium Fertility\"\n",
    "\n",
    "col_N = 'N g.Kg-¹'\n",
    "col_P = 'P mg.dm-³'\n",
    "col_K = 'K mmolc.dm-³'\n",
    "\n",
    "df[\"Fertility_Label\"] = df.apply(lambda row: classify_soil(row[col_N], row[col_P], row[col_K]), axis=1)"
   ]
  },
  {
   "cell_type": "code",
   "execution_count": null,
   "id": "164a8888-41d5-44d0-bf8f-874d552b129f",
   "metadata": {},
   "outputs": [],
   "source": []
  },
  {
   "cell_type": "code",
   "execution_count": 29,
   "id": "d83017eb-7a73-492e-90fd-48bfe033c710",
   "metadata": {},
   "outputs": [
    {
     "name": "stdout",
     "output_type": "stream",
     "text": [
      "Training accuracy (NPK only): 1.0\n",
      "Testing accuracy (NPK only): 1.0\n"
     ]
    }
   ],
   "source": [
    "# Select only N, P, K as features\n",
    "X_simple = df[[col_N, col_P, col_K]]\n",
    "y_simple = df[\"Fertility_Label\"]\n",
    "\n",
    "# Split\n",
    "X_train_s, X_test_s, y_train_s, y_test_s = train_test_split(\n",
    "    X_simple, y_simple, test_size=0.2, random_state=42, stratify=y_simple\n",
    ")\n",
    "\n",
    "# Train model\n",
    "model_simple = RandomForestClassifier(n_estimators=200, random_state=42)\n",
    "model_simple.fit(X_train_s, y_train_s)\n",
    "\n",
    "print(\"Training accuracy (NPK only):\", model_simple.score(X_train_s, y_train_s))\n",
    "print(\"Testing accuracy (NPK only):\", model_simple.score(X_test_s, y_test_s))"
   ]
  },
  {
   "cell_type": "markdown",
   "id": "bcb49e3a-e16f-4e27-af1c-5f377585650e",
   "metadata": {},
   "source": [
    "# Plot Confusion Matrix"
   ]
  },
  {
   "cell_type": "code",
   "execution_count": 19,
   "id": "3af77330-f70f-413f-bc1f-fdb5ced022ad",
   "metadata": {},
   "outputs": [
    {
     "data": {
      "image/png": "[encoded data removed]",
      "text/plain": [
       "<Figure size 700x500 with 2 Axes>"
      ]
     },
     "metadata": {},
     "output_type": "display_data"
    }
   ],
   "source": [
    "import matplotlib.pyplot as plt\n",
    "import seaborn as sns\n",
    "from sklearn.metrics import confusion_matrix\n",
    "\n",
    "# Compute confusion matrix\n",
    "cm = confusion_matrix(y_test, y_test_pred, labels=[\"Low Fertility\", \"Medium Fertility\", \"High Fertility\"])\n",
    "\n",
    "# Plot\n",
    "plt.figure(figsize=(7,5))\n",
    "sns.heatmap(cm, annot=True, fmt='d', cmap=\"Blues\",\n",
    "            xticklabels=[\"Low\", \"Medium\", \"High\"],\n",
    "            yticklabels=[\"Low\", \"Medium\", \"High\"])\n",
    "plt.xlabel(\"Predicted\")\n",
    "plt.ylabel(\"Actual\")\n",
    "plt.title(\"Confusion Matrix of Soil Fertility Prediction\")\n",
    "plt.show()"
   ]
  },
  {
   "cell_type": "markdown",
   "id": "632f7bb5-7c79-4076-9c13-fb5bb9fa4153",
   "metadata": {},
   "source": [
    "# Plot Prediction Distribution"
   ]
  },
  {
   "cell_type": "code",
   "execution_count": 20,
   "id": "0c6ce243-5ddb-467d-aa96-f8ac847e6186",
   "metadata": {},
   "outputs": [
    {
     "data": {
      "image/png": "[encoded data removed]",
      "text/plain": [
       "<Figure size 600x400 with 1 Axes>"
      ]
     },
     "metadata": {},
     "output_type": "display_data"
    }
   ],
   "source": [
    "# Count of predictions\n",
    "pred_counts = pd.Series(y_test_pred).value_counts().reindex([\"Low Fertility\", \"Medium Fertility\", \"High Fertility\"])\n",
    "\n",
    "# Plot\n",
    "plt.figure(figsize=(6,4))\n",
    "pred_counts.plot(kind='bar', color=['tomato', 'gold', 'green'])\n",
    "plt.xlabel(\"Predicted Fertility\")\n",
    "plt.ylabel(\"Number of Samples\")\n",
    "plt.title(\"Distribution of Predicted Fertility\")\n",
    "plt.xticks(rotation=0)\n",
    "plt.show()"
   ]
  },
  {
   "cell_type": "markdown",
   "id": "47d4fc0f-14d8-45e5-b432-95d609ea351c",
   "metadata": {},
   "source": [
    "# Government-approved fertilizers"
   ]
  },
  {
   "cell_type": "code",
   "execution_count": 21,
   "id": "e9a81292-1be8-44bb-a6f1-d94c1fa8faf1",
   "metadata": {},
   "outputs": [],
   "source": [
    "# Example list of government-approved fertilizers\n",
    "govt_fertilizers = [\"Urea\", \"DAP\", \"MOP\", \"SSP\", \"Nitrophos\"]"
   ]
  },
  {
   "cell_type": "markdown",
   "id": "f6bce387-de0d-408b-996d-a034d7fbe6a4",
   "metadata": {},
   "source": [
    "# Recommendation function"
   ]
  },
  {
   "cell_type": "code",
   "execution_count": 22,
   "id": "84c0b0bd-609b-49cb-8645-c03d914b5d24",
   "metadata": {},
   "outputs": [],
   "source": [
    "def recommend_fertilizer(fertility):\n",
    "    if fertility == \"High Fertility\":\n",
    "        fert = {\"fertilizer\": \"MOP\", \"amount_kg_per_hectare\": 50, \"interval_days\": 90}\n",
    "    elif fertility == \"Medium Fertility\":\n",
    "        fert = {\"fertilizer\": \"DAP\", \"amount_kg_per_hectare\": 100, \"interval_days\": 60}\n",
    "    else:  # Low Fertility\n",
    "        fert = {\"fertilizer\": \"Urea\", \"amount_kg_per_hectare\": 150, \"interval_days\": 45}\n",
    "    \n",
    "    # Ensure government-approved fertilizer\n",
    "    if fert[\"fertilizer\"] not in govt_fertilizers:\n",
    "        fert[\"fertilizer\"] = govt_fertilizers[0]  # replace with first approved fertilizer\n",
    "    \n",
    "    return fert"
   ]
  },
  {
   "cell_type": "markdown",
   "id": "abf11d6a-67d7-4f83-9de3-29bbd6f72b25",
   "metadata": {},
   "source": [
    "# Apply recommendations to ML predictions"
   ]
  },
  {
   "cell_type": "code",
   "execution_count": 24,
   "id": "83e95fca-3a4f-492d-83f1-b1bba17d2928",
   "metadata": {},
   "outputs": [
    {
     "data": {
      "text/html": [
       "<div>\n",
       "<style scoped>\n",
       "    .dataframe tbody tr th:only-of-type {\n",
       "        vertical-align: middle;\n",
       "    }\n",
       "\n",
       "    .dataframe tbody tr th {\n",
       "        vertical-align: top;\n",
       "    }\n",
       "\n",
       "    .dataframe thead th {\n",
       "        text-align: right;\n",
       "    }\n",
       "</style>\n",
       "<table border=\"1\" class=\"dataframe\">\n",
       "  <thead>\n",
       "    <tr style=\"text-align: right;\">\n",
       "      <th></th>\n",
       "      <th>Predicted_Fertility</th>\n",
       "      <th>fertilizer</th>\n",
       "      <th>amount_kg_per_hectare</th>\n",
       "      <th>interval_days</th>\n",
       "    </tr>\n",
       "  </thead>\n",
       "  <tbody>\n",
       "    <tr>\n",
       "      <th>0</th>\n",
       "      <td>Low Fertility</td>\n",
       "      <td>Urea</td>\n",
       "      <td>150</td>\n",
       "      <td>45</td>\n",
       "    </tr>\n",
       "    <tr>\n",
       "      <th>1</th>\n",
       "      <td>Low Fertility</td>\n",
       "      <td>Urea</td>\n",
       "      <td>150</td>\n",
       "      <td>45</td>\n",
       "    </tr>\n",
       "    <tr>\n",
       "      <th>2</th>\n",
       "      <td>Low Fertility</td>\n",
       "      <td>Urea</td>\n",
       "      <td>150</td>\n",
       "      <td>45</td>\n",
       "    </tr>\n",
       "    <tr>\n",
       "      <th>3</th>\n",
       "      <td>Low Fertility</td>\n",
       "      <td>Urea</td>\n",
       "      <td>150</td>\n",
       "      <td>45</td>\n",
       "    </tr>\n",
       "    <tr>\n",
       "      <th>4</th>\n",
       "      <td>Low Fertility</td>\n",
       "      <td>Urea</td>\n",
       "      <td>150</td>\n",
       "      <td>45</td>\n",
       "    </tr>\n",
       "    <tr>\n",
       "      <th>5</th>\n",
       "      <td>Low Fertility</td>\n",
       "      <td>Urea</td>\n",
       "      <td>150</td>\n",
       "      <td>45</td>\n",
       "    </tr>\n",
       "    <tr>\n",
       "      <th>6</th>\n",
       "      <td>Medium Fertility</td>\n",
       "      <td>DAP</td>\n",
       "      <td>100</td>\n",
       "      <td>60</td>\n",
       "    </tr>\n",
       "    <tr>\n",
       "      <th>7</th>\n",
       "      <td>High Fertility</td>\n",
       "      <td>MOP</td>\n",
       "      <td>50</td>\n",
       "      <td>90</td>\n",
       "    </tr>\n",
       "    <tr>\n",
       "      <th>8</th>\n",
       "      <td>High Fertility</td>\n",
       "      <td>MOP</td>\n",
       "      <td>50</td>\n",
       "      <td>90</td>\n",
       "    </tr>\n",
       "    <tr>\n",
       "      <th>9</th>\n",
       "      <td>High Fertility</td>\n",
       "      <td>MOP</td>\n",
       "      <td>50</td>\n",
       "      <td>90</td>\n",
       "    </tr>\n",
       "  </tbody>\n",
       "</table>\n",
       "</div>"
      ],
      "text/plain": [
       "  Predicted_Fertility fertilizer  amount_kg_per_hectare  interval_days\n",
       "0       Low Fertility       Urea                    150             45\n",
       "1       Low Fertility       Urea                    150             45\n",
       "2       Low Fertility       Urea                    150             45\n",
       "3       Low Fertility       Urea                    150             45\n",
       "4       Low Fertility       Urea                    150             45\n",
       "5       Low Fertility       Urea                    150             45\n",
       "6    Medium Fertility        DAP                    100             60\n",
       "7      High Fertility        MOP                     50             90\n",
       "8      High Fertility        MOP                     50             90\n",
       "9      High Fertility        MOP                     50             90"
      ]
     },
     "execution_count": 24,
     "metadata": {},
     "output_type": "execute_result"
    }
   ],
   "source": [
    "# Expand 'Recommendation' dict into separate columns\n",
    "recommendations_df = df['Recommendation'].apply(pd.Series)\n",
    "\n",
    "# Merge back into original df (optional: drop old 'Recommendation' column)\n",
    "df = pd.concat([df.drop(columns=['Recommendation']), recommendations_df], axis=1)\n",
    "\n",
    "# Show compact output\n",
    "compact_cols = [\"Predicted_Fertility\", \"fertilizer\", \"amount_kg_per_hectare\", \"interval_days\"]\n",
    "df[compact_cols].head(10)"
   ]
  },
  {
   "cell_type": "markdown",
   "id": "59119077-a632-4146-9df8-bea4b54568a7",
   "metadata": {},
   "source": [
    "# Define the interactive function"
   ]
  },
  {
   "cell_type": "code",
   "execution_count": 25,
   "id": "78108f41-e233-4763-8a2f-f0ee5a5785cb",
   "metadata": {},
   "outputs": [],
   "source": [
    "def predict_and_recommend(new_sample):\n",
    "    \"\"\"\n",
    "    new_sample: dict of {feature_name: value}, e.g.,\n",
    "        {'N g.Kg-¹': 1.5, 'P mg.dm-³': 10, 'K mmolc.dm-³': 1.2, ...}\n",
    "    \"\"\"\n",
    "    # Convert to DataFrame\n",
    "    sample_df = pd.DataFrame([new_sample])\n",
    "    \n",
    "    # Keep only numeric columns that match training data\n",
    "    sample_X = sample_df[X.columns.intersection(sample_df.columns)]\n",
    "    \n",
    "    # Predict Fertility\n",
    "    pred_fertility = model.predict(sample_X)[0]\n",
    "    \n",
    "    # Recommend fertilizer\n",
    "    recommendation = recommend_fertilizer(pred_fertility)\n",
    "    \n",
    "    # Combine output in one dict\n",
    "    output = {\n",
    "        \"Predicted_Fertility\": pred_fertility,\n",
    "        \"fertilizer\": recommendation[\"fertilizer\"],\n",
    "        \"amount_kg_per_hectare\": recommendation[\"amount_kg_per_hectare\"],\n",
    "        \"interval_days\": recommendation[\"interval_days\"]\n",
    "    }\n",
    "    \n",
    "    return output"
   ]
  },
  {
   "cell_type": "code",
   "execution_count": 31,
   "id": "01ce4b11-8351-41d2-a383-930c11a4d1c9",
   "metadata": {},
   "outputs": [],
   "source": [
    "# Prediction function using only NPK\n",
    "def predict_and_recommend_npk(new_sample):\n",
    "    # Convert dict to DataFrame\n",
    "    sample_df = pd.DataFrame([new_sample])\n",
    "    \n",
    "    # Only N, P, K columns\n",
    "    sample_X = sample_df[[col_N, col_P, col_K]]\n",
    "    \n",
    "    # Predict fertility using the NPK-only model\n",
    "    pred_fertility = model_simple.predict(sample_X)[0]\n",
    "    \n",
    "    # Recommend fertilizer\n",
    "    recommendation = recommend_fertilizer(pred_fertility)\n",
    "    \n",
    "    # Return combined output\n",
    "    return {\n",
    "        \"Predicted_Fertility\": pred_fertility,\n",
    "        \"Recommendation\": recommendation\n",
    "    }"
   ]
  },
  {
   "cell_type": "code",
   "execution_count": 36,
   "id": "73ee8275-4356-487e-815a-09aab83be2c1",
   "metadata": {},
   "outputs": [],
   "source": [
    "def predict_and_recommend_interactive(new_sample, use_full_spectral=False):\n",
    "    sample_df = pd.DataFrame([new_sample])\n",
    "    \n",
    "    if use_full_spectral:\n",
    "        sample_X = sample_df[X.columns.intersection(sample_df.columns)]\n",
    "        pred_fertility = model.predict(sample_X)[0]\n",
    "    else:\n",
    "        sample_X = sample_df[[col_N, col_P, col_K]]\n",
    "        pred_fertility = model_simple.predict(sample_X)[0]\n",
    "    \n",
    "    recommendation = recommend_fertilizer(pred_fertility)\n",
    "    \n",
    "    return {\n",
    "        \"Predicted_Fertility\": pred_fertility,\n",
    "        \"Recommendation\": recommendation\n",
    "    }"
   ]
  },
  {
   "cell_type": "markdown",
   "id": "27151cb2-9156-4919-8fd3-47cb2275f205",
   "metadata": {},
   "source": [
    "# Example Usage"
   ]
  },
  {
   "cell_type": "code",
   "execution_count": 35,
   "id": "58440c6a-a621-4064-8892-4ba9c548e992",
   "metadata": {},
   "outputs": [
    {
     "name": "stdout",
     "output_type": "stream",
     "text": [
      "NPK-only model output:\n",
      " {'Predicted_Fertility': 'High Fertility', 'Recommendation': {'fertilizer': 'MOP', 'amount_kg_per_hectare': 50, 'interval_days': 90}}\n"
     ]
    }
   ],
   "source": [
    "# %% [shell 8]\n",
    "# Example usage: NPK-only input\n",
    "new_soil_sample = {\n",
    "    'N g.Kg-¹': 1.8,\n",
    "    'P mg.dm-³': 12,\n",
    "    'K mmolc.dm-³': 1.5,\n",
    "}\n",
    "\n",
    "result_npk = predict_and_recommend_interactive(new_soil_sample, use_full_spectral=False)\n",
    "print(\"NPK-only model output:\\n\", result_npk)\n"
   ]
  },
  {
   "cell_type": "markdown",
   "id": "4c5cab89-2c7d-482e-8f1c-39d666c4fd06",
   "metadata": {},
   "source": [
    "# Voice Interaction and Multilingual Features"
   ]
  },
  {
   "cell_type": "markdown",
   "id": "3c66e461-abb6-4675-a86e-d597b8f7fe7d",
   "metadata": {},
   "source": [
    "# Voice Input (Multilingual)"
   ]
  },
  {
   "cell_type": "code",
   "execution_count": 39,
   "id": "5446114c-3474-48d5-bdef-f43ba1db431d",
   "metadata": {},
   "outputs": [],
   "source": [
    "import speech_recognition as sr\n",
    "from langdetect import detect\n",
    "\n",
    "def get_voice_input():\n",
    "    r = sr.Recognizer()\n",
    "    with sr.Microphone() as source:\n",
    "        print(\"Please speak your soil values (N, P, K)...\")\n",
    "        audio = r.listen(source)\n",
    "    try:\n",
    "        text = r.recognize_google(audio)\n",
    "        print(\"You said:\", text)\n",
    "        detected_lang = detect(text)\n",
    "        print(\"Detected language:\", detected_lang)\n",
    "        return text, detected_lang\n",
    "    except Exception as e:\n",
    "        print(\"Error recognizing speech:\", e)\n",
    "        return None, None"
   ]
  },
  {
   "cell_type": "markdown",
   "id": "91f77e44-6ea8-4183-a213-fcc784b8a180",
   "metadata": {},
   "source": [
    "# Translation Helper"
   ]
  },
  {
   "cell_type": "code",
   "execution_count": 40,
   "id": "bfef570a-d00a-4d9c-a270-6a8a3b2efc74",
   "metadata": {},
   "outputs": [],
   "source": [
    "from googletrans import Translator\n",
    "\n",
    "translator = Translator()\n",
    "\n",
    "def translate_text(text, dest_lang=\"en\"):\n",
    "    # dest_lang = Google language code, e.g., 'hi' for Hindi\n",
    "    translation = translator.translate(text, dest=dest_lang)\n",
    "    return translation.text"
   ]
  },
  {
   "cell_type": "markdown",
   "id": "36a0d08d-91a4-46d4-bd93-ba7fd69fb6b5",
   "metadata": {},
   "source": [
    "# Voice Output"
   ]
  },
  {
   "cell_type": "code",
   "execution_count": 41,
   "id": "8c053763-55cd-442d-bdbe-73445ec6c19f",
   "metadata": {},
   "outputs": [],
   "source": [
    "# %% [shell 3]\n",
    "from gtts import gTTS\n",
    "import playsound\n",
    "import tempfile\n",
    "\n",
    "def speak_text(text, lang=\"en\"):\n",
    "    tts = gTTS(text=text, lang=lang)\n",
    "    with tempfile.NamedTemporaryFile(delete=True, suffix=\".mp3\") as fp:\n",
    "        tts.save(fp.name)\n",
    "        playsound.playsound(fp.name)"
   ]
  },
  {
   "cell_type": "markdown",
   "id": "5c054bb3-a597-4005-af54-683939b2aa79",
   "metadata": {},
   "source": [
    "# Extract Soil Values from Text"
   ]
  },
  {
   "cell_type": "code",
   "execution_count": 42,
   "id": "25d7b4c5-b549-49b3-b2ff-2fc9cade45f2",
   "metadata": {},
   "outputs": [],
   "source": [
    "import re\n",
    "\n",
    "def parse_soil_values(text):\n",
    "    try:\n",
    "        numbers = re.findall(r\"[-+]?\\d*\\.\\d+|\\d+\", text)\n",
    "        if len(numbers) >= 3:\n",
    "            return {\n",
    "                'N g.Kg-¹': float(numbers[0]),\n",
    "                'P mg.dm-³': float(numbers[1]),\n",
    "                'K mmolc.dm-³': float(numbers[2])\n",
    "            }\n",
    "        else:\n",
    "            return None\n",
    "    except:\n",
    "        return None"
   ]
  },
  {
   "cell_type": "markdown",
   "id": "fabd3b97-ce7a-4d8e-978e-d3649262fad9",
   "metadata": {},
   "source": [
    "# Multilingual Chatbot Function"
   ]
  },
  {
   "cell_type": "code",
   "execution_count": 43,
   "id": "d788ab55-08c0-468c-a7ab-4bdb80ec3760",
   "metadata": {},
   "outputs": [],
   "source": [
    "def chatbot_voice_interactive():\n",
    "    text, lang_detected = get_voice_input()\n",
    "    if text is None:\n",
    "        speak_text(\"Sorry, I could not understand you. Please try again.\", lang=\"en\")\n",
    "        return\n",
    "    \n",
    "    soil_values = parse_soil_values(text)\n",
    "    if soil_values is None:\n",
    "        speak_text(\"Could not extract N, P, K values. Please speak clearly.\", lang=\"en\")\n",
    "        return\n",
    "    \n",
    "    # Predict using NPK model\n",
    "    result = predict_and_recommend_interactive(soil_values, use_full_spectral=False)\n",
    "    \n",
    "    response_text = f\"Predicted Fertility: {result['Predicted_Fertility']}. \" \\\n",
    "                    f\"Use {result['Recommendation']['fertilizer']} \" \\\n",
    "                    f\"at {result['Recommendation']['amount_kg_per_hectare']} kg per hectare.\"\n",
    "    \n",
    "    # Translate response if input was not English\n",
    "    if lang_detected != \"en\":\n",
    "        response_text = translate_text(response_text, dest_lang=lang_detected)\n",
    "    \n",
    "    print(response_text)\n",
    "    speak_text(response_text, lang=lang_detected)"
   ]
  },
  {
   "cell_type": "markdown",
   "id": "df9cba3e-e1d2-4fd0-b07f-8ba120c727b0",
   "metadata": {},
   "source": [
    "# Run the Chatbot"
   ]
  },
  {
   "cell_type": "code",
   "execution_count": 45,
   "id": "b8ec9dfc-8ed0-459c-9e74-4e06157e03f8",
   "metadata": {},
   "outputs": [
    {
     "name": "stdout",
     "output_type": "stream",
     "text": [
      "Please speak your soil values (N, P, K)...\n",
      "You said: 0.8 0.6 0.2\n",
      "Error recognizing speech: No features in text.\n"
     ]
    }
   ],
   "source": [
    "chatbot_voice_interactive()"
   ]
  },
  {
   "cell_type": "code",
   "execution_count": null,
   "id": "6788e94c-30f6-4ae1-8a97-d984ef392bda",
   "metadata": {},
   "outputs": [],
   "source": []
  }
 ],
 "metadata": {
  "kernelspec": {
   "display_name": "Python 3 (ipykernel)",
   "language": "python",
   "name": "python3"
  },
  "language_info": {
   "codemirror_mode": {
    "name": "ipython",
    "version": 3
   },
   "file_extension": ".py",
   "mimetype": "text/x-python",
   "name": "python",
   "nbconvert_exporter": "python",
   "pygments_lexer": "ipython3",
   "version": "3.11.11"
  }
 },
 "nbformat": 4,
 "nbformat_minor": 5
}
