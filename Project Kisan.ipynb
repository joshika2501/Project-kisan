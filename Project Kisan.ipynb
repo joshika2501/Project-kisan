{
 "cells": [
  {
   "cell_type": "markdown",
   "id": "78f9253b-de75-4c61-a62c-51d5d9b8b2e9",
   "metadata": {},
   "source": [
    "# Disease Detection (CNN on PlantVillage)"
   ]
  },
  {
   "cell_type": "code",
   "execution_count": 1,
   "id": "3805a793-4396-4d51-bdd4-b39419d3197b",
   "metadata": {},
   "outputs": [
    {
     "name": "stderr",
     "output_type": "stream",
     "text": [
      "Copying files: 20639 files [00:06, 3184.34 files/s]\n"
     ]
    }
   ],
   "source": [
    "import splitfolders\n",
    "\n",
    "input_folder = \"PlantVillage\"\n",
    "\n",
    "splitfolders.ratio(input_folder, output=\"PlantVillage_split\", seed=42, ratio=(.8, .2))\n"
   ]
  },
  {
   "cell_type": "code",
   "execution_count": 2,
   "id": "db141256-4cc7-4f8c-92bb-96d6611e26e7",
   "metadata": {},
   "outputs": [],
   "source": [
    "train_dir = \"PlantVillage_split/train\"\n",
    "val_dir = \"PlantVillage_split/val\"\n"
   ]
  },
  {
   "cell_type": "code",
   "execution_count": 3,
   "id": "2adcd6cd-ff2a-4b52-8ad2-fd657970aeeb",
   "metadata": {},
   "outputs": [
    {
     "name": "stdout",
     "output_type": "stream",
     "text": [
      "Found 16504 images belonging to 16 classes.\n",
      "Found 4135 images belonging to 16 classes.\n",
      "Epoch 1/3\n"
     ]
    },
    {
     "name": "stderr",
     "output_type": "stream",
     "text": [
      "/opt/anaconda3/lib/python3.11/site-packages/keras/src/layers/convolutional/base_conv.py:113: UserWarning: Do not pass an `input_shape`/`input_dim` argument to a layer. When using Sequential models, prefer using an `Input(shape)` object as the first layer in the model instead.\n",
      "  super().__init__(activity_regularizer=activity_regularizer, **kwargs)\n",
      "/opt/anaconda3/lib/python3.11/site-packages/keras/src/trainers/data_adapters/py_dataset_adapter.py:121: UserWarning: Your `PyDataset` class should call `super().__init__(**kwargs)` in its constructor. `**kwargs` can include `workers`, `use_multiprocessing`, `max_queue_size`. Do not pass these arguments to `fit()`, as they will be ignored.\n",
      "  self._warn_if_super_not_called()\n"
     ]
    },
    {
     "name": "stdout",
     "output_type": "stream",
     "text": [
      "\u001b[1m516/516\u001b[0m \u001b[32m━━━━━━━━━━━━━━━━━━━━\u001b[0m\u001b[37m\u001b[0m \u001b[1m74s\u001b[0m 143ms/step - accuracy: 0.6267 - loss: 1.1742 - val_accuracy: 0.7613 - val_loss: 0.7022\n",
      "Epoch 2/3\n",
      "\u001b[1m516/516\u001b[0m \u001b[32m━━━━━━━━━━━━━━━━━━━━\u001b[0m\u001b[37m\u001b[0m \u001b[1m79s\u001b[0m 153ms/step - accuracy: 0.8459 - loss: 0.4665 - val_accuracy: 0.8655 - val_loss: 0.4005\n",
      "Epoch 3/3\n",
      "\u001b[1m516/516\u001b[0m \u001b[32m━━━━━━━━━━━━━━━━━━━━\u001b[0m\u001b[37m\u001b[0m \u001b[1m80s\u001b[0m 155ms/step - accuracy: 0.9169 - loss: 0.2550 - val_accuracy: 0.8450 - val_loss: 0.4744\n"
     ]
    },
    {
     "name": "stderr",
     "output_type": "stream",
     "text": [
      "WARNING:absl:You are saving your model as an HDF5 file via `model.save()` or `keras.saving.save_model(model)`. This file format is considered legacy. We recommend using instead the native Keras format, e.g. `model.save('my_model.keras')` or `keras.saving.save_model(model, 'my_model.keras')`. \n"
     ]
    },
    {
     "name": "stdout",
     "output_type": "stream",
     "text": [
      "Model saved as disease_model.h5\n"
     ]
    }
   ],
   "source": [
    "import tensorflow as tf\n",
    "from tensorflow.keras.preprocessing.image import ImageDataGenerator\n",
    "\n",
    "# Image generators\n",
    "datagen = ImageDataGenerator(rescale=1./255)\n",
    "\n",
    "train_data = datagen.flow_from_directory(\n",
    "    train_dir,\n",
    "    target_size=(128,128),\n",
    "    batch_size=32,\n",
    "    class_mode='categorical'\n",
    ")\n",
    "\n",
    "val_data = datagen.flow_from_directory(\n",
    "    val_dir,\n",
    "    target_size=(128,128),\n",
    "    batch_size=32,\n",
    "    class_mode='categorical'\n",
    ")\n",
    "\n",
    "# Simple CNN model\n",
    "model = tf.keras.models.Sequential([\n",
    "    tf.keras.layers.Conv2D(32, (3,3), activation='relu', input_shape=(128,128,3)),\n",
    "    tf.keras.layers.MaxPooling2D(2,2),\n",
    "    tf.keras.layers.Conv2D(64, (3,3), activation='relu'),\n",
    "    tf.keras.layers.MaxPooling2D(2,2),\n",
    "    tf.keras.layers.Flatten(),\n",
    "    tf.keras.layers.Dense(128, activation='relu'),\n",
    "    tf.keras.layers.Dense(train_data.num_classes, activation='softmax')\n",
    "])\n",
    "\n",
    "model.compile(optimizer='adam', loss='categorical_crossentropy', metrics=['accuracy'])\n",
    "model.fit(train_data, validation_data=val_data, epochs=3)\n",
    "\n",
    "model.save(\"disease_model.h5\")\n",
    "print(\"Model saved as disease_model.h5\")\n"
   ]
  },
  {
   "cell_type": "markdown",
   "id": "991d47ce-95c9-4ad9-b137-690ab1b225bb",
   "metadata": {},
   "source": [
    "# Crop Recommendation (ML)"
   ]
  },
  {
   "cell_type": "code",
   "execution_count": 4,
   "id": "05f0dfa1-656c-4707-8854-c7c51f18f035",
   "metadata": {},
   "outputs": [
    {
     "name": "stdout",
     "output_type": "stream",
     "text": [
      "Accuracy: 0.9931818181818182\n"
     ]
    }
   ],
   "source": [
    "import pandas as pd\n",
    "from sklearn.model_selection import train_test_split\n",
    "from sklearn.ensemble import RandomForestClassifier\n",
    "from sklearn.metrics import accuracy_score\n",
    "import pickle\n",
    "\n",
    "# Load dataset\n",
    "df = pd.read_csv(\"Crop_recommendation.csv\")\n",
    "\n",
    "X = df.drop(\"label\", axis=1)\n",
    "y = df[\"label\"]\n",
    "\n",
    "X_train, X_test, y_train, y_test = train_test_split(X, y, test_size=0.2, random_state=42)\n",
    "\n",
    "model = RandomForestClassifier(n_estimators=100, random_state=42)\n",
    "model.fit(X_train, y_train)\n",
    "\n",
    "y_pred = model.predict(X_test)\n",
    "print(\"Accuracy:\", accuracy_score(y_test, y_pred))\n",
    "\n",
    "pickle.dump(model, open(\"crop_model.pkl\", \"wb\"))\n"
   ]
  },
  {
   "cell_type": "markdown",
   "id": "fae1e880-a6c2-41ca-8083-5f0959492c32",
   "metadata": {},
   "source": [
    "# Market Prices (Simple Lookup)"
   ]
  },
  {
   "cell_type": "code",
   "execution_count": 9,
   "id": "ee6a47bc-f172-403a-94bc-cbb0058b3152",
   "metadata": {},
   "outputs": [
    {
     "name": "stdout",
     "output_type": "stream",
     "text": [
      "     State District    Market              Commodity      Variety Grade  \\\n",
      "0  Gujarat   Amreli  Damnagar  Bhindi(Ladies Finger)       Bhindi   FAQ   \n",
      "1  Gujarat   Amreli  Damnagar                Brinjal        Other   FAQ   \n",
      "2  Gujarat   Amreli  Damnagar                Cabbage      Cabbage   FAQ   \n",
      "3  Gujarat   Amreli  Damnagar            Cauliflower  Cauliflower   FAQ   \n",
      "4  Gujarat   Amreli  Damnagar      Coriander(Leaves)    Coriander   FAQ   \n",
      "\n",
      "  Arrival_Date  Min Price  Max Price  Modal Price  \n",
      "0   27-07-2023     4100.0     4500.0       4350.0  \n",
      "1   27-07-2023     2200.0     3000.0       2450.0  \n",
      "2   27-07-2023     2350.0     3000.0       2700.0  \n",
      "3   27-07-2023     7000.0     7500.0       7250.0  \n",
      "4   27-07-2023     8400.0     9000.0       8850.0  \n",
      "Index(['State', 'District', 'Market', 'Commodity', 'Variety', 'Grade',\n",
      "       'Arrival_Date', 'Min Price', 'Max Price', 'Modal Price'],\n",
      "      dtype='object')\n"
     ]
    }
   ],
   "source": [
    "import pandas as pd\n",
    "\n",
    "# Load dataset\n",
    "df = pd.read_csv(\"Price_Agriculture_commodities_Week.csv\")\n",
    "\n",
    "print(df.head())\n",
    "print(df.columns)\n"
   ]
  },
  {
   "cell_type": "code",
   "execution_count": 10,
   "id": "786eb489-72db-4541-9f57-0badf76fb8bb",
   "metadata": {},
   "outputs": [],
   "source": [
    "df = df.rename(columns={\n",
    "    \"Commodity\": \"commodity\",\n",
    "    \"Arrival_Date\": \"date\",\n",
    "    \"Modal Price\": \"modal_price\"\n",
    "})\n",
    "\n",
    "df[\"date\"] = pd.to_datetime(df[\"date\"], format=\"%d-%m-%Y\")"
   ]
  },
  {
   "cell_type": "code",
   "execution_count": 11,
   "id": "0f3d16e6-f258-4bd6-92d3-6bf12eada2b9",
   "metadata": {},
   "outputs": [],
   "source": [
    "def get_price_trend(crop_name, state=None, district=None):\n",
    "    crop_data = df[df[\"commodity\"].str.lower() == crop_name.lower()]\n",
    "    \n",
    "    if state:\n",
    "        crop_data = crop_data[df[\"State\"].str.lower() == state.lower()]\n",
    "    if district:\n",
    "        crop_data = crop_data[df[\"District\"].str.lower() == district.lower()]\n",
    "    \n",
    "    if crop_data.empty:\n",
    "        return None\n",
    "    \n",
    "    crop_data = crop_data.sort_values(\"date\")\n",
    "    return crop_data[[\"date\", \"State\", \"District\", \"Market\", \"modal_price\"]].tail(7)\n"
   ]
  },
  {
   "cell_type": "markdown",
   "id": "6ce6d724-9ce5-4832-96f2-eda11415816a",
   "metadata": {},
   "source": [
    "# Wrap the models into functions"
   ]
  },
  {
   "cell_type": "code",
   "execution_count": 12,
   "id": "aace7a6d-0240-4112-9af2-6e2baf93ffac",
   "metadata": {},
   "outputs": [
    {
     "name": "stderr",
     "output_type": "stream",
     "text": [
      "WARNING:absl:Compiled the loaded model, but the compiled metrics have yet to be built. `model.compile_metrics` will be empty until you train or evaluate the model.\n"
     ]
    }
   ],
   "source": [
    "import tensorflow as tf\n",
    "import pickle\n",
    "import pandas as pd\n",
    "\n",
    "# Load disease detection model\n",
    "disease_model = tf.keras.models.load_model(\"disease_model.h5\")\n",
    "\n",
    "# Load crop recommendation model\n",
    "crop_model = pickle.load(open(\"crop_model.pkl\", \"rb\"))\n",
    "\n",
    "# Load price dataset\n",
    "df_price = pd.read_csv(\"Price_Agriculture_commodities_Week.csv\")\n",
    "df_price = df_price.rename(columns={\n",
    "    \"Commodity\": \"commodity\",\n",
    "    \"Arrival_Date\": \"date\",\n",
    "    \"Modal Price\": \"modal_price\"\n",
    "})\n",
    "df_price[\"date\"] = pd.to_datetime(df_price[\"date\"], format=\"%d-%m-%Y\")\n"
   ]
  },
  {
   "cell_type": "markdown",
   "id": "b9b2b019-4ff3-4f5e-9154-ac3dc4cf604f",
   "metadata": {},
   "source": [
    "# Functions"
   ]
  },
  {
   "cell_type": "code",
   "execution_count": 13,
   "id": "54b9d177-5236-49b5-81a8-2719d584302e",
   "metadata": {},
   "outputs": [],
   "source": [
    "# --- Plant Disease Prediction ---\n",
    "import numpy as np\n",
    "from tensorflow.keras.preprocessing import image\n",
    "\n",
    "def predict_disease(img_path):\n",
    "    img = image.load_img(img_path, target_size=(128,128))\n",
    "    img_array = image.img_to_array(img)/255.0\n",
    "    img_array = np.expand_dims(img_array, axis=0)\n",
    "    \n",
    "    prediction = disease_model.predict(img_array)\n",
    "    class_index = np.argmax(prediction)\n",
    "    class_labels = list(train_data.class_indices.keys())  # from earlier ImageDataGenerator\n",
    "    return class_labels[class_index]\n",
    "\n",
    "\n",
    "# --- Crop Recommendation ---\n",
    "def recommend_crop(N, P, K, temperature, humidity, ph, rainfall):\n",
    "    features = [[N, P, K, temperature, humidity, ph, rainfall]]\n",
    "    prediction = crop_model.predict(features)\n",
    "    return prediction[0]\n",
    "\n",
    "\n",
    "# --- Price Trend ---\n",
    "def get_price_trend(crop_name, state=None, district=None):\n",
    "    crop_data = df_price[df_price[\"commodity\"].str.lower() == crop_name.lower()]\n",
    "    \n",
    "    if state:\n",
    "        crop_data = crop_data[df_price[\"State\"].str.lower() == state.lower()]\n",
    "    if district:\n",
    "        crop_data = crop_data[df_price[\"District\"].str.lower() == district.lower()]\n",
    "    \n",
    "    if crop_data.empty:\n",
    "        return None\n",
    "    \n",
    "    crop_data = crop_data.sort_values(\"date\")\n",
    "    return crop_data[[\"date\", \"State\", \"District\", \"Market\", \"modal_price\"]].tail(7)\n"
   ]
  },
  {
   "cell_type": "code",
   "execution_count": 14,
   "id": "2cdf9959-521b-4b06-95ae-ff530d8f9e21",
   "metadata": {},
   "outputs": [
    {
     "name": "stdout",
     "output_type": "stream",
     "text": [
      "\u001b[1m1/1\u001b[0m \u001b[32m━━━━━━━━━━━━━━━━━━━━\u001b[0m\u001b[37m\u001b[0m \u001b[1m0s\u001b[0m 48ms/step\n",
      "Disease: Potato___healthy\n",
      "Recommended crop: rice\n",
      "            date    State District    Market  modal_price\n",
      "2     2023-07-27  Gujarat   Amreli  Damnagar       2700.0\n",
      "312   2023-07-28  Gujarat   Amreli  Damnagar       1850.0\n",
      "5677  2023-07-29  Gujarat   Amreli  Damnagar       1350.0\n",
      "8964  2023-07-30  Gujarat   Amreli  Damnagar       2250.0\n",
      "9806  2023-07-31  Gujarat   Amreli  Damnagar       2000.0\n",
      "14768 2023-08-01  Gujarat   Amreli     Dhari       2400.0\n",
      "22913 2023-08-02  Gujarat   Amreli  Damnagar       2350.0\n"
     ]
    },
    {
     "name": "stderr",
     "output_type": "stream",
     "text": [
      "/opt/anaconda3/lib/python3.11/site-packages/sklearn/utils/validation.py:2749: UserWarning: X does not have valid feature names, but RandomForestClassifier was fitted with feature names\n",
      "  warnings.warn(\n",
      "/var/folders/w9/7s9szcyx42g5q1nxwts213gm0000gn/T/ipykernel_1182/1905222273.py:28: UserWarning: Boolean Series key will be reindexed to match DataFrame index.\n",
      "  crop_data = crop_data[df_price[\"State\"].str.lower() == state.lower()]\n",
      "/var/folders/w9/7s9szcyx42g5q1nxwts213gm0000gn/T/ipykernel_1182/1905222273.py:30: UserWarning: Boolean Series key will be reindexed to match DataFrame index.\n",
      "  crop_data = crop_data[df_price[\"District\"].str.lower() == district.lower()]\n"
     ]
    }
   ],
   "source": [
    "# Disease detection\n",
    "print(\"Disease:\", predict_disease(\"PlantVillage_split/val/Potato___healthy/0be9d721-82f5-42c3-b535-7494afe01dbe___RS_HL 1814.JPG\"))\n",
    "\n",
    "# Crop recommendation\n",
    "print(\"Recommended crop:\", recommend_crop(90, 42, 43, 25, 80, 6.5, 200))\n",
    "\n",
    "# Price trend\n",
    "print(get_price_trend(\"Cabbage\", state=\"Gujarat\", district=\"Amreli\"))\n"
   ]
  },
  {
   "cell_type": "markdown",
   "id": "38cfc005-3320-4938-be86-5b27a16aac60",
   "metadata": {},
   "source": [
    "# Chatbot"
   ]
  },
  {
   "cell_type": "code",
   "execution_count": 21,
   "id": "7b23a2ff-4abd-45df-8aab-837cc1811824",
   "metadata": {},
   "outputs": [
    {
     "data": {
      "application/vnd.jupyter.widget-view+json": {
       "model_id": "0fb321257d7d4854983782f4c3b0adc4",
       "version_major": 2,
       "version_minor": 0
      },
      "text/plain": [
       "Dropdown(description='Module:', options=('Plant Disease Detection', 'Crop Recommendation', 'Market Prices'), v…"
      ]
     },
     "metadata": {},
     "output_type": "display_data"
    },
    {
     "data": {
      "application/vnd.jupyter.widget-view+json": {
       "model_id": "838047cc2094428fb0a462bb4909e6ce",
       "version_major": 2,
       "version_minor": 0
      },
      "text/plain": [
       "Output()"
      ]
     },
     "metadata": {},
     "output_type": "display_data"
    }
   ],
   "source": [
    "import ipywidgets as widgets\n",
    "from IPython.display import display, clear_output\n",
    "import tensorflow as tf\n",
    "import pickle\n",
    "import pandas as pd\n",
    "import numpy as np\n",
    "from PIL import Image\n",
    "import io\n",
    "import os\n",
    "\n",
    "# Plant disease CNN\n",
    "disease_model = tf.keras.models.load_model(\"disease_model.h5\")\n",
    "\n",
    "# Get class names dynamically from training folder\n",
    "train_dir = \"PlantVillage_split/train\"\n",
    "train_data_classes = sorted(os.listdir(train_dir))\n",
    "print(f\"Loaded {len(train_data_classes)} disease classes.\")\n",
    "\n",
    "# Crop recommendation model\n",
    "crop_model = pickle.load(open(\"crop_model.pkl\", \"rb\"))\n",
    "\n",
    "# Market prices\n",
    "df_price = pd.read_csv(\"Price_Agriculture_commodities_Week.csv\")\n",
    "df_price = df_price.rename(columns={\"Commodity\": \"commodity\", \n",
    "                                    \"Arrival_Date\": \"date\", \n",
    "                                    \"Modal Price\": \"modal_price\"})\n",
    "df_price[\"date\"] = pd.to_datetime(df_price[\"date\"], format=\"%d-%m-%Y\")\n",
    "\n",
    "\n",
    "def predict_disease_from_file(file):\n",
    "    img = Image.open(file).convert(\"RGB\").resize((128,128))\n",
    "    img_array = np.array(img)/255.0\n",
    "    img_array = np.expand_dims(img_array, axis=0)\n",
    "    pred = disease_model.predict(img_array)\n",
    "    return train_data_classes[np.argmax(pred)]\n",
    "\n",
    "def recommend_crop(N, P, K, temp, humidity, ph, rainfall):\n",
    "    features = [[N, P, K, temp, humidity, ph, rainfall]]\n",
    "    return crop_model.predict(features)[0]\n",
    "\n",
    "def get_price_trend(crop_name, state=None, district=None):\n",
    "    crop_data = df_price[df_price[\"commodity\"].str.lower() == crop_name.lower()]\n",
    "    if state:\n",
    "        crop_data = crop_data[df_price[\"State\"].str.lower() == state.lower()]\n",
    "    if district:\n",
    "        crop_data = crop_data[df_price[\"District\"].str.lower() == district.lower()]\n",
    "    if crop_data.empty:\n",
    "        return None\n",
    "    crop_data = crop_data.sort_values(\"date\")\n",
    "    return crop_data[[\"date\", \"State\", \"District\", \"Market\", \"modal_price\"]].tail(7)\n",
    "\n",
    "out = widgets.Output()\n",
    "\n",
    "# Module selection\n",
    "module_dropdown = widgets.Dropdown(\n",
    "    options=[\"Plant Disease Detection\", \"Crop Recommendation\", \"Market Prices\"],\n",
    "    description=\"Module:\"\n",
    ")\n",
    "\n",
    "# Disease detection widgets\n",
    "upload = widgets.FileUpload(accept='image/*', multiple=False)\n",
    "disease_button = widgets.Button(description=\"Predict Disease\")\n",
    "\n",
    "# Crop recommendation widgets\n",
    "N_input = widgets.IntText(description=\"N\")\n",
    "P_input = widgets.IntText(description=\"P\")\n",
    "K_input = widgets.IntText(description=\"K\")\n",
    "temp_input = widgets.FloatText(description=\"Temp\")\n",
    "humidity_input = widgets.FloatText(description=\"Humidity\")\n",
    "ph_input = widgets.FloatText(description=\"pH\")\n",
    "rainfall_input = widgets.FloatText(description=\"Rainfall\")\n",
    "crop_button = widgets.Button(description=\"Recommend Crop\")\n",
    "\n",
    "# Market price widgets\n",
    "crop_name_input = widgets.Text(description=\"Crop\")\n",
    "state_input = widgets.Text(description=\"State\")\n",
    "district_input = widgets.Text(description=\"District\")\n",
    "price_button = widgets.Button(description=\"Get Prices\")\n",
    "\n",
    "# Display\n",
    "def on_module_change(change):\n",
    "    clear_output(wait=True)\n",
    "    display(module_dropdown, out)\n",
    "    with out:\n",
    "        clear_output()\n",
    "        if change['new'] == \"Plant Disease Detection\":\n",
    "            display(upload, disease_button)\n",
    "        elif change['new'] == \"Crop Recommendation\":\n",
    "            display(N_input, P_input, K_input, temp_input, humidity_input, ph_input, rainfall_input, crop_button)\n",
    "        elif change['new'] == \"Market Prices\":\n",
    "            display(crop_name_input, state_input, district_input, price_button)\n",
    "\n",
    "def on_disease_click(b):\n",
    "    with out:\n",
    "        clear_output(wait=True)\n",
    "        if upload.value:\n",
    "            uploaded_file = upload.value[0]  # ipywidgets v8+ returns tuple\n",
    "            file_obj = io.BytesIO(uploaded_file.content)  # use .content\n",
    "            result = predict_disease_from_file(file_obj)\n",
    "            print(f\"Predicted Disease: {result}\")\n",
    "        else:\n",
    "            print(\"Please upload an image.\")\n",
    "\n",
    "def on_crop_click(b):\n",
    "    with out:\n",
    "        clear_output(wait=True)\n",
    "        result = recommend_crop(N_input.value, P_input.value, K_input.value, temp_input.value, humidity_input.value, ph_input.value, rainfall_input.value)\n",
    "        print(f\"Recommended Crop: {result}\")\n",
    "\n",
    "def on_price_click(b):\n",
    "    with out:\n",
    "        clear_output(wait=True)\n",
    "        result = get_price_trend(crop_name_input.value, state_input.value, district_input.value)\n",
    "        if result is None:\n",
    "            print(\"No data available for this crop/location.\")\n",
    "        else:\n",
    "            print(result)\n",
    "\n",
    "module_dropdown.observe(on_module_change, names='value')\n",
    "disease_button.on_click(on_disease_click)\n",
    "crop_button.on_click(on_crop_click)\n",
    "price_button.on_click(on_price_click)\n",
    "\n",
    "display(module_dropdown, out)\n",
    "on_module_change({'new': module_dropdown.value})\n"
   ]
  },
  {
   "cell_type": "code",
   "execution_count": null,
   "id": "b67355fe-212a-4b05-9809-b761659a0a35",
   "metadata": {},
   "outputs": [],
   "source": []
  }
 ],
 "metadata": {
  "kernelspec": {
   "display_name": "Python 3 (ipykernel)",
   "language": "python",
   "name": "python3"
  },
  "language_info": {
   "codemirror_mode": {
    "name": "ipython",
    "version": 3
   },
   "file_extension": ".py",
   "mimetype": "text/x-python",
   "name": "python",
   "nbconvert_exporter": "python",
   "pygments_lexer": "ipython3",
   "version": "3.11.11"
  }
 },
 "nbformat": 4,
 "nbformat_minor": 5
}
