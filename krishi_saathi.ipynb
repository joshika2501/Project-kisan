{
  "nbformat": 4,
  "nbformat_minor": 0,
  "metadata": {
    "colab": {
      "provenance": [],
      "authorship_tag": "ABX9TyOSp/75tsfYzaCpLTalHSmY",
      "include_colab_link": true
    },
    "kernelspec": {
      "name": "python3",
      "display_name": "Python 3"
    },
    "language_info": {
      "name": "python"
    }
  },
  "cells": [
    {
      "cell_type": "markdown",
      "metadata": {
        "id": "view-in-github",
        "colab_type": "text"
      },
      "source": [
        "<a href=\"https://colab.research.google.com/github/joshika2501/Project-kisan/blob/main/krishi_saathi.ipynb\" target=\"_parent\"><img src=\"https://colab.research.google.com/assets/colab-badge.svg\" alt=\"Open In Colab\"/></a>"
      ]
    },
    {
      "cell_type": "code",
      "source": [
        "!apt-get install -y tesseract-ocr\n",
        "!pip install pytesseract opencv-python-headless matplotlib numpy pandas python-dateutil"
      ],
      "metadata": {
        "colab": {
          "base_uri": "https://localhost:8080/"
        },
        "collapsed": true,
        "id": "EQZ5d_G_mNJY",
        "outputId": "48b0f5ac-90b8-4776-cd7c-36c05170095f"
      },
      "execution_count": null,
      "outputs": [
        {
          "output_type": "stream",
          "name": "stdout",
          "text": [
            "Reading package lists... Done\n",
            "Building dependency tree... Done\n",
            "Reading state information... Done\n",
            "tesseract-ocr is already the newest version (4.1.1-2.1build1).\n",
            "0 upgraded, 0 newly installed, 0 to remove and 38 not upgraded.\n",
            "Collecting pytesseract\n",
            "  Downloading pytesseract-0.3.13-py3-none-any.whl.metadata (11 kB)\n",
            "Requirement already satisfied: opencv-python-headless in /usr/local/lib/python3.12/dist-packages (4.12.0.88)\n",
            "Requirement already satisfied: matplotlib in /usr/local/lib/python3.12/dist-packages (3.10.0)\n",
            "Requirement already satisfied: numpy in /usr/local/lib/python3.12/dist-packages (2.0.2)\n",
            "Requirement already satisfied: pandas in /usr/local/lib/python3.12/dist-packages (2.2.2)\n",
            "Requirement already satisfied: python-dateutil in /usr/local/lib/python3.12/dist-packages (2.9.0.post0)\n",
            "Requirement already satisfied: packaging>=21.3 in /usr/local/lib/python3.12/dist-packages (from pytesseract) (25.0)\n",
            "Requirement already satisfied: Pillow>=8.0.0 in /usr/local/lib/python3.12/dist-packages (from pytesseract) (11.3.0)\n",
            "Requirement already satisfied: contourpy>=1.0.1 in /usr/local/lib/python3.12/dist-packages (from matplotlib) (1.3.3)\n",
            "Requirement already satisfied: cycler>=0.10 in /usr/local/lib/python3.12/dist-packages (from matplotlib) (0.12.1)\n",
            "Requirement already satisfied: fonttools>=4.22.0 in /usr/local/lib/python3.12/dist-packages (from matplotlib) (4.60.0)\n",
            "Requirement already satisfied: kiwisolver>=1.3.1 in /usr/local/lib/python3.12/dist-packages (from matplotlib) (1.4.9)\n",
            "Requirement already satisfied: pyparsing>=2.3.1 in /usr/local/lib/python3.12/dist-packages (from matplotlib) (3.2.4)\n",
            "Requirement already satisfied: pytz>=2020.1 in /usr/local/lib/python3.12/dist-packages (from pandas) (2025.2)\n",
            "Requirement already satisfied: tzdata>=2022.7 in /usr/local/lib/python3.12/dist-packages (from pandas) (2025.2)\n",
            "Requirement already satisfied: six>=1.5 in /usr/local/lib/python3.12/dist-packages (from python-dateutil) (1.17.0)\n",
            "Downloading pytesseract-0.3.13-py3-none-any.whl (14 kB)\n",
            "Installing collected packages: pytesseract\n",
            "Successfully installed pytesseract-0.3.13\n"
          ]
        }
      ]
    },
    {
      "cell_type": "code",
      "source": [
        "import cv2\n",
        "import pytesseract\n",
        "import numpy as np\n",
        "import pandas as pd\n",
        "import re\n",
        "import matplotlib.pyplot as plt\n",
        "from dateutil import parser"
      ],
      "metadata": {
        "id": "CcL6QcOJmZ-7"
      },
      "execution_count": null,
      "outputs": []
    },
    {
      "cell_type": "code",
      "source": [
        "from IPython.display import display, Javascript\n",
        "from google.colab.output import eval_js\n",
        "from base64 import b64decode\n",
        "from google.colab import files\n",
        "def take_photo(filename='photo.jpg', quality=0.8):\n",
        "    js = Javascript('''\n",
        "      async function takePhoto(quality) {\n",
        "        const div = document.createElement('div');\n",
        "        const capture = document.createElement('button');\n",
        "        capture.textContent = '📸 Capture Photo';\n",
        "        div.appendChild(capture);\n",
        "\n",
        "        const video = document.createElement('video');\n",
        "        video.style.display = 'block';\n",
        "        const stream = await navigator.mediaDevices.getUserMedia({video: true});\n",
        "        document.body.appendChild(div);\n",
        "        div.appendChild(video);\n",
        "        video.srcObject = stream;\n",
        "        await video.play();\n",
        "\n",
        "        // Resize output\n",
        "        google.colab.output.setIframeHeight(document.documentElement.scrollHeight, true);\n",
        "\n",
        "        // Wait for capture\n",
        "        await new Promise((resolve) => capture.onclick = resolve);\n",
        "\n",
        "        const canvas = document.createElement('canvas');\n",
        "        canvas.width = video.videoWidth;\n",
        "        canvas.height = video.videoHeight;\n",
        "        canvas.getContext('2d').drawImage(video, 0, 0);\n",
        "        stream.getVideoTracks()[0].stop();\n",
        "        div.remove();\n",
        "        return canvas.toDataURL('image/jpeg', quality);\n",
        "      }\n",
        "    ''')\n",
        "    display(js)\n",
        "    data = eval_js('takePhoto({})'.format(quality))\n",
        "    binary = b64decode(data.split(',')[1])\n",
        "    with open(filename, 'wb') as f:\n",
        "        f.write(binary)\n",
        "    return filename\n",
        "\n",
        "img_path = take_photo()\n",
        "print(\"✅ Captured:\", img_path)"
      ],
      "metadata": {
        "colab": {
          "base_uri": "https://localhost:8080/",
          "height": 34
        },
        "id": "4VGlDBHXmj1X",
        "outputId": "5bc7d2c4-08b8-4ebb-dc56-afc0f535e7b9"
      },
      "execution_count": null,
      "outputs": [
        {
          "output_type": "display_data",
          "data": {
            "text/plain": [
              "<IPython.core.display.Javascript object>"
            ],
            "application/javascript": [
              "\n",
              "      async function takePhoto(quality) {\n",
              "        const div = document.createElement('div');\n",
              "        const capture = document.createElement('button');\n",
              "        capture.textContent = '📸 Capture Photo';\n",
              "        div.appendChild(capture);\n",
              "\n",
              "        const video = document.createElement('video');\n",
              "        video.style.display = 'block';\n",
              "        const stream = await navigator.mediaDevices.getUserMedia({video: true});\n",
              "        document.body.appendChild(div);\n",
              "        div.appendChild(video);\n",
              "        video.srcObject = stream;\n",
              "        await video.play();\n",
              "\n",
              "        // Resize output\n",
              "        google.colab.output.setIframeHeight(document.documentElement.scrollHeight, true);\n",
              "\n",
              "        // Wait for capture\n",
              "        await new Promise((resolve) => capture.onclick = resolve);\n",
              "\n",
              "        const canvas = document.createElement('canvas');\n",
              "        canvas.width = video.videoWidth;\n",
              "        canvas.height = video.videoHeight;\n",
              "        canvas.getContext('2d').drawImage(video, 0, 0);\n",
              "        stream.getVideoTracks()[0].stop();\n",
              "        div.remove();\n",
              "        return canvas.toDataURL('image/jpeg', quality);\n",
              "      }\n",
              "    "
            ]
          },
          "metadata": {}
        },
        {
          "output_type": "stream",
          "name": "stdout",
          "text": [
            "✅ Captured: photo.jpg\n"
          ]
        }
      ]
    },
    {
      "cell_type": "code",
      "source": [
        "# This cell's content has been moved to the next cell (AZjKnxGUq8Xl).\n",
        "# You can safely delete this cell."
      ],
      "metadata": {
        "id": "DHRcYSSem9Cw"
      },
      "execution_count": null,
      "outputs": []
    },
    {
      "cell_type": "code",
      "source": [
        "import cv2\n",
        "import pytesseract\n",
        "import numpy as np\n",
        "import pandas as pd\n",
        "import re\n",
        "from dateutil import parser\n",
        "\n",
        "img_path = 'photo.jpg' # Assuming the photo was taken and saved as photo.jpg\n",
        "\n",
        "img = cv2.imread(img_path)\n",
        "gray = cv2.cvtColor(img, cv2.COLOR_BGR2GRAY)\n",
        "blur = cv2.GaussianBlur(gray, (5,5), 0)\n",
        "thresh = cv2.adaptiveThreshold(\n",
        "    blur, 255, cv2.ADAPTIVE_THRESH_GAUSSIAN_C, cv2.THRESH_BINARY, 11, 2\n",
        ")\n",
        "\n",
        "# OCR\n",
        "text = pytesseract.image_to_string(thresh)\n",
        "print(\" Extracted text:\\n\", text)\n",
        "\n",
        "# Extract Fertilizer Info\n",
        "fertilizer_info = {}\n",
        "\n",
        "match = re.search(r'(\\d{1,2})[-:](\\d{1,2})[-:](\\d{1,2})', text)\n",
        "if match:\n",
        "    fertilizer_info['N'] = int(match.group(1))\n",
        "    fertilizer_info['P'] = int(match.group(2))\n",
        "    fertilizer_info['K'] = int(match.group(3))\n",
        "else:\n",
        "    fertilizer_info['N'] = fertilizer_info['P'] = fertilizer_info['K'] = None\n",
        "\n",
        "date_match = re.search(r'(Expiry|EXP|Exp)\\s*[:\\-]?\\s*([0-9\\/\\.\\-]+)', text, re.IGNORECASE)\n",
        "if date_match:\n",
        "    try:\n",
        "        fertilizer_info['Expiry Date'] = parser.parse(date_match.group(2), dayfirst=True).date()\n",
        "    except:\n",
        "        fertilizer_info['Expiry Date'] = date_match.group(2)\n",
        "\n",
        "dose_match = re.search(r'(\\d+)\\s*(kg|g|ml|L)\\s*/\\s*acre', text, re.IGNORECASE)\n",
        "if dose_match:\n",
        "    fertilizer_info['Dosage'] = f\"{dose_match.group(1)} {dose_match.group(2)} per acre\"\n",
        "\n",
        "print(\"\\n Fertilizer Info Extracted:\")\n",
        "print(fertilizer_info)\n",
        "\n",
        "soil_N = float(input(\"Enter soil Nitrogen level (kg/ha): \"))\n",
        "soil_P = float(input(\"Enter soil Phosphorus level (kg/ha): \"))\n",
        "soil_K = float(input(\"Enter soil Potassium level (kg/ha): \"))\n",
        "crop_type = input(\"Enter crop type (wheat, rice, maize, etc.): \").lower()\n",
        "area = float(input(\"Enter area of land (hectares): \"))\n",
        "temperature = float(input(\"Enter average temperature (°C): \"))\n",
        "soil_type = input(\"Enter soil type (loamy, sandy, clayey): \").lower()\n",
        "\n",
        "crop_needs = {\n",
        "    \"wheat\": {\"N\": 120, \"P\": 60, \"K\": 40},\n",
        "    \"rice\": {\"N\": 100, \"P\": 50, \"K\": 50},\n",
        "    \"maize\": {\"N\": 150, \"P\": 75, \"K\": 40}\n",
        "}\n",
        "\n",
        "if crop_type not in crop_needs:\n",
        "    print(\" Crop not in database. Using default.\")\n",
        "    crop_req = {\"N\": 100, \"P\": 50, \"K\": 40}\n",
        "else:\n",
        "    crop_req = crop_needs[crop_type]\n",
        "\n",
        "crop_req = {k: v*area for k, v in crop_req.items()}\n",
        "soil_avail = {\"N\": soil_N*area, \"P\": soil_P*area, \"K\": soil_K*area}\n",
        "\n",
        "temp_factor = 1.0\n",
        "if temperature < 15: temp_factor = 0.9\n",
        "elif temperature > 35: temp_factor = 1.1\n",
        "\n",
        "soil_factor = {\"loamy\": 1.0, \"sandy\": 1.2, \"clayey\": 0.9}.get(soil_type, 1.0)\n",
        "\n",
        "final_req = {\n",
        "    \"N\": (crop_req[\"N\"] - soil_avail[\"N\"]) * temp_factor * soil_factor,\n",
        "    \"P\": (crop_req[\"P\"] - soil_avail[\"P\"]) * temp_factor * soil_factor,\n",
        "    \"K\": (crop_req[\"K\"] - soil_avail[\"K\"]) * temp_factor * soil_factor\n",
        "}\n",
        "\n",
        "print(\"\\n Final Nutrient Requirement (kg):\", final_req)\n",
        "\n",
        "if fertilizer_info['N'] is not None and fertilizer_info['P'] is not None and fertilizer_info['K'] is not None:\n",
        "    fert_ratio = np.array([fertilizer_info['N'], fertilizer_info['P'], fertilizer_info['K']])\n",
        "    fert_total = fert_ratio.sum()\n",
        "    # Handle cases where fert_total might be zero to avoid division by zero\n",
        "    if fert_total > 0:\n",
        "        fert_fraction = fert_ratio / fert_total\n",
        "        # Ensure non-zero fractions before division\n",
        "        if fert_fraction[0] > 0 and fert_fraction[1] > 0 and fert_fraction[2] > 0:\n",
        "            fert_needed = max(final_req[\"N\"]/fert_fraction[0],\n",
        "                              final_req[\"P\"]/fert_fraction[1],\n",
        "                              final_req[\"K\"]/fert_fraction[2])\n",
        "            print(f\"\\n Recommended Fertilizer Application: {fert_needed:.2f} kg for {area} ha\")\n",
        "        else:\n",
        "            print(\"\\n Fertilizer NPK ratio contains zeros, cannot calculate application.\")\n",
        "    else:\n",
        "        print(\"\\n Fertilizer NPK sum is zero, cannot calculate application.\")\n",
        "else:\n",
        "    print(\"\\n Fertilizer NPK not detected.\")"
      ],
      "metadata": {
        "colab": {
          "base_uri": "https://localhost:8080/"
        },
        "id": "AZjKnxGUq8Xl",
        "outputId": "1115482e-e81e-4338-ffa9-0a0f764eb8d6"
      },
      "execution_count": null,
      "outputs": [
        {
          "output_type": "stream",
          "name": "stdout",
          "text": [
            " Extracted text:\n",
            "  \n",
            "\f\n",
            "\n",
            " Fertilizer Info Extracted:\n",
            "{'N': None, 'P': None, 'K': None}\n",
            "Enter soil Nitrogen level (kg/ha): 70\n",
            "Enter soil Phosphorus level (kg/ha): 70\n",
            "Enter soil Potassium level (kg/ha): 70\n",
            "Enter crop type (wheat, rice, maize, etc.): wheat\n",
            "Enter area of land (hectares): 20\n",
            "Enter average temperature (°C): 25\n",
            "Enter soil type (loamy, sandy, clayey): sandy\n",
            "\n",
            " Final Nutrient Requirement (kg): {'N': 1200.0, 'P': -240.0, 'K': -720.0}\n",
            "\n",
            " Fertilizer NPK not detected.\n"
          ]
        }
      ]
    },
    {
      "cell_type": "code",
      "source": [
        "plt.figure(figsize=(10,5))\n",
        "plt.subplot(1,2,1); plt.title(\"Original\"); plt.imshow(cv2.cvtColor(img, cv2.COLOR_BGR2RGB))\n",
        "plt.subplot(1,2,2); plt.title(\"Processed\"); plt.imshow(thresh, cmap=\"gray\")\n",
        "plt.show()"
      ],
      "metadata": {
        "colab": {
          "base_uri": "https://localhost:8080/"
        },
        "id": "gOcn3wyHr2FH",
        "outputId": "e6de8e40-1578-4251-9e63-621a75801880"
      },
      "execution_count": null,
      "outputs": [
        {
          "output_type": "display_data",
          "data": {
            "text/plain": [
              "<Figure size 1000x500 with 2 Axes>"
            ],
            "image/png": "[encoded data removed]"
          },
          "metadata": {}
        }
      ]
    },
    {
      "cell_type": "code",
      "metadata": {
        "id": "d294b7e6"
      },
      "source": [
        "import pandas as pd\n",
        "\n",
        "# Create an empty DataFrame\n",
        "df = pd.DataFrame()"
      ],
      "execution_count": null,
      "outputs": []
    },
    {
      "cell_type": "code",
      "source": [
        "# Install Tesseract OCR engine\n",
        "!apt-get install -y tesseract-ocr\n",
        "\n",
        "# Install pytesseract (Python wrapper)\n",
        "!pip install pytesseract\n",
        "\n",
        "# Install OpenCV (headless version for Colab)\n",
        "!pip install opencv-python-headless\n",
        "\n",
        "# Install sklearn for accuracy checking\n",
        "!pip install scikit-learn\n"
      ],
      "metadata": {
        "colab": {
          "base_uri": "https://localhost:8080/"
        },
        "id": "_jr3TtsUGgcg",
        "outputId": "56bbac57-0595-4887-b4ba-ff6fb70c575d"
      },
      "execution_count": null,
      "outputs": [
        {
          "output_type": "stream",
          "name": "stdout",
          "text": [
            "Reading package lists... Done\n",
            "Building dependency tree... Done\n",
            "Reading state information... Done\n",
            "tesseract-ocr is already the newest version (4.1.1-2.1build1).\n",
            "0 upgraded, 0 newly installed, 0 to remove and 38 not upgraded.\n",
            "Collecting pytesseract\n",
            "  Downloading pytesseract-0.3.13-py3-none-any.whl.metadata (11 kB)\n",
            "Requirement already satisfied: packaging>=21.3 in /usr/local/lib/python3.12/dist-packages (from pytesseract) (25.0)\n",
            "Requirement already satisfied: Pillow>=8.0.0 in /usr/local/lib/python3.12/dist-packages (from pytesseract) (11.3.0)\n",
            "Downloading pytesseract-0.3.13-py3-none-any.whl (14 kB)\n",
            "Installing collected packages: pytesseract\n",
            "Successfully installed pytesseract-0.3.13\n",
            "Requirement already satisfied: opencv-python-headless in /usr/local/lib/python3.12/dist-packages (4.12.0.88)\n",
            "Requirement already satisfied: numpy<2.3.0,>=2 in /usr/local/lib/python3.12/dist-packages (from opencv-python-headless) (2.0.2)\n",
            "Requirement already satisfied: scikit-learn in /usr/local/lib/python3.12/dist-packages (1.6.1)\n",
            "Requirement already satisfied: numpy>=1.19.5 in /usr/local/lib/python3.12/dist-packages (from scikit-learn) (2.0.2)\n",
            "Requirement already satisfied: scipy>=1.6.0 in /usr/local/lib/python3.12/dist-packages (from scikit-learn) (1.16.2)\n",
            "Requirement already satisfied: joblib>=1.2.0 in /usr/local/lib/python3.12/dist-packages (from scikit-learn) (1.5.2)\n",
            "Requirement already satisfied: threadpoolctl>=3.1.0 in /usr/local/lib/python3.12/dist-packages (from scikit-learn) (3.6.0)\n"
          ]
        }
      ]
    },
    {
      "cell_type": "code",
      "source": [
        "import cv2\n",
        "import pytesseract\n",
        "from sklearn.metrics import accuracy_score\n",
        "\n",
        "# Example test dataset (uploaded files must match these names)\n",
        "test_data = {\n",
        "    \"packet1.jpg\": \"NPK 10:26:26\",\n",
        "    \"packet2.jpg\": \"Urea 46%\",\n",
        "    \"packet3.jpg\": \"DAP 18:46:0\"\n",
        "}\n",
        "\n",
        "y_true = []\n",
        "y_pred = []\n",
        "\n",
        "for img_path, true_text in test_data.items():\n",
        "    img = cv2.imread(img_path)\n",
        "    if img is None:\n",
        "        print(f\" Image not found: {img_path}\")\n",
        "        continue\n",
        "\n",
        "    gray = cv2.cvtColor(img, cv2.COLOR_BGR2GRAY)\n",
        "    extracted_text = pytesseract.image_to_string(gray)\n",
        "\n",
        "    y_true.append(true_text.strip().lower())\n",
        "    y_pred.append(extracted_text.strip().lower())\n",
        "\n",
        "if y_true and y_pred:\n",
        "    acc = accuracy_score(y_true, y_pred)\n",
        "    print(\" OCR Accuracy:\", acc * 100, \"%\")\n",
        "else:\n",
        "    print(\" No valid images processed. Please check file names.\")\n"
      ],
      "metadata": {
        "colab": {
          "base_uri": "https://localhost:8080/"
        },
        "id": "QvfAQZspF8Gl",
        "outputId": "57ab2a0d-ee7f-416c-a5fe-c66333b0fc47"
      },
      "execution_count": null,
      "outputs": [
        {
          "output_type": "stream",
          "name": "stdout",
          "text": [
            " Image not found: packet1.jpg\n",
            " Image not found: packet2.jpg\n",
            " Image not found: packet3.jpg\n",
            " No valid images processed. Please check file names.\n"
          ]
        }
      ]
    },
    {
      "cell_type": "code",
      "source": [
        "from google.colab import files\n",
        "uploaded = files.upload()  # Choose your dataset CSV file\n"
      ],
      "metadata": {
        "colab": {
          "base_uri": "https://localhost:8080/",
          "height": 73
        },
        "id": "hB2Dp4EAH0Zr",
        "outputId": "8db6975c-2f2e-4a2a-9a49-1570186a750e"
      },
      "execution_count": null,
      "outputs": [
        {
          "output_type": "display_data",
          "data": {
            "text/plain": [
              "<IPython.core.display.HTML object>"
            ],
            "text/html": [
              "\n",
              "     <input type=\"file\" id=\"files-76459ec2-ecf5-4d6f-972a-37120b63efce\" name=\"files[]\" multiple disabled\n",
              "        style=\"border:none\" />\n",
              "     <output id=\"result-76459ec2-ecf5-4d6f-972a-37120b63efce\">\n",
              "      Upload widget is only available when the cell has been executed in the\n",
              "      current browser session. Please rerun this cell to enable.\n",
              "      </output>\n",
              "      <script>// Copyright 2017 Google LLC\n",
              "//\n",
              "// Licensed under the Apache License, Version 2.0 (the \"License\");\n",
              "// you may not use this file except in compliance with the License.\n",
              "// You may obtain a copy of the License at\n",
              "//\n",
              "//      http://www.apache.org/licenses/LICENSE-2.0\n",
              "//\n",
              "// Unless required by applicable law or agreed to in writing, software\n",
              "// distributed under the License is distributed on an \"AS IS\" BASIS,\n",
              "// WITHOUT WARRANTIES OR CONDITIONS OF ANY KIND, either express or implied.\n",
              "// See the License for the specific language governing permissions and\n",
              "// limitations under the License.\n",
              "\n",
              "/**\n",
              " * @fileoverview Helpers for google.colab Python module.\n",
              " */\n",
              "(function(scope) {\n",
              "function span(text, styleAttributes = {}) {\n",
              "  const element = document.createElement('span');\n",
              "  element.textContent = text;\n",
              "  for (const key of Object.keys(styleAttributes)) {\n",
              "    element.style[key] = styleAttributes[key];\n",
              "  }\n",
              "  return element;\n",
              "}\n",
              "\n",
              "// Max number of bytes which will be uploaded at a time.\n",
              "const MAX_PAYLOAD_SIZE = 100 * 1024;\n",
              "\n",
              "function _uploadFiles(inputId, outputId) {\n",
              "  const steps = uploadFilesStep(inputId, outputId);\n",
              "  const outputElement = document.getElementById(outputId);\n",
              "  // Cache steps on the outputElement to make it available for the next call\n",
              "  // to uploadFilesContinue from Python.\n",
              "  outputElement.steps = steps;\n",
              "\n",
              "  return _uploadFilesContinue(outputId);\n",
              "}\n",
              "\n",
              "// This is roughly an async generator (not supported in the browser yet),\n",
              "// where there are multiple asynchronous steps and the Python side is going\n",
              "// to poll for completion of each step.\n",
              "// This uses a Promise to block the python side on completion of each step,\n",
              "// then passes the result of the previous step as the input to the next step.\n",
              "function _uploadFilesContinue(outputId) {\n",
              "  const outputElement = document.getElementById(outputId);\n",
              "  const steps = outputElement.steps;\n",
              "\n",
              "  const next = steps.next(outputElement.lastPromiseValue);\n",
              "  return Promise.resolve(next.value.promise).then((value) => {\n",
              "    // Cache the last promise value to make it available to the next\n",
              "    // step of the generator.\n",
              "    outputElement.lastPromiseValue = value;\n",
              "    return next.value.response;\n",
              "  });\n",
              "}\n",
              "\n",
              "/**\n",
              " * Generator function which is called between each async step of the upload\n",
              " * process.\n",
              " * @param {string} inputId Element ID of the input file picker element.\n",
              " * @param {string} outputId Element ID of the output display.\n",
              " * @return {!Iterable<!Object>} Iterable of next steps.\n",
              " */\n",
              "function* uploadFilesStep(inputId, outputId) {\n",
              "  const inputElement = document.getElementById(inputId);\n",
              "  inputElement.disabled = false;\n",
              "\n",
              "  const outputElement = document.getElementById(outputId);\n",
              "  outputElement.innerHTML = '';\n",
              "\n",
              "  const pickedPromise = new Promise((resolve) => {\n",
              "    inputElement.addEventListener('change', (e) => {\n",
              "      resolve(e.target.files);\n",
              "    });\n",
              "  });\n",
              "\n",
              "  const cancel = document.createElement('button');\n",
              "  inputElement.parentElement.appendChild(cancel);\n",
              "  cancel.textContent = 'Cancel upload';\n",
              "  const cancelPromise = new Promise((resolve) => {\n",
              "    cancel.onclick = () => {\n",
              "      resolve(null);\n",
              "    };\n",
              "  });\n",
              "\n",
              "  // Wait for the user to pick the files.\n",
              "  const files = yield {\n",
              "    promise: Promise.race([pickedPromise, cancelPromise]),\n",
              "    response: {\n",
              "      action: 'starting',\n",
              "    }\n",
              "  };\n",
              "\n",
              "  cancel.remove();\n",
              "\n",
              "  // Disable the input element since further picks are not allowed.\n",
              "  inputElement.disabled = true;\n",
              "\n",
              "  if (!files) {\n",
              "    return {\n",
              "      response: {\n",
              "        action: 'complete',\n",
              "      }\n",
              "    };\n",
              "  }\n",
              "\n",
              "  for (const file of files) {\n",
              "    const li = document.createElement('li');\n",
              "    li.append(span(file.name, {fontWeight: 'bold'}));\n",
              "    li.append(span(\n",
              "        `(${file.type || 'n/a'}) - ${file.size} bytes, ` +\n",
              "        `last modified: ${\n",
              "            file.lastModifiedDate ? file.lastModifiedDate.toLocaleDateString() :\n",
              "                                    'n/a'} - `));\n",
              "    const percent = span('0% done');\n",
              "    li.appendChild(percent);\n",
              "\n",
              "    outputElement.appendChild(li);\n",
              "\n",
              "    const fileDataPromise = new Promise((resolve) => {\n",
              "      const reader = new FileReader();\n",
              "      reader.onload = (e) => {\n",
              "        resolve(e.target.result);\n",
              "      };\n",
              "      reader.readAsArrayBuffer(file);\n",
              "    });\n",
              "    // Wait for the data to be ready.\n",
              "    let fileData = yield {\n",
              "      promise: fileDataPromise,\n",
              "      response: {\n",
              "        action: 'continue',\n",
              "      }\n",
              "    };\n",
              "\n",
              "    // Use a chunked sending to avoid message size limits. See b/62115660.\n",
              "    let position = 0;\n",
              "    do {\n",
              "      const length = Math.min(fileData.byteLength - position, MAX_PAYLOAD_SIZE);\n",
              "      const chunk = new Uint8Array(fileData, position, length);\n",
              "      position += length;\n",
              "\n",
              "      const base64 = btoa(String.fromCharCode.apply(null, chunk));\n",
              "      yield {\n",
              "        response: {\n",
              "          action: 'append',\n",
              "          file: file.name,\n",
              "          data: base64,\n",
              "        },\n",
              "      };\n",
              "\n",
              "      let percentDone = fileData.byteLength === 0 ?\n",
              "          100 :\n",
              "          Math.round((position / fileData.byteLength) * 100);\n",
              "      percent.textContent = `${percentDone}% done`;\n",
              "\n",
              "    } while (position < fileData.byteLength);\n",
              "  }\n",
              "\n",
              "  // All done.\n",
              "  yield {\n",
              "    response: {\n",
              "      action: 'complete',\n",
              "    }\n",
              "  };\n",
              "}\n",
              "\n",
              "scope.google = scope.google || {};\n",
              "scope.google.colab = scope.google.colab || {};\n",
              "scope.google.colab._files = {\n",
              "  _uploadFiles,\n",
              "  _uploadFilesContinue,\n",
              "};\n",
              "})(self);\n",
              "</script> "
            ]
          },
          "metadata": {}
        },
        {
          "output_type": "stream",
          "name": "stdout",
          "text": [
            "Saving sensor_Crop_Dataset (1).csv to sensor_Crop_Dataset (1).csv\n"
          ]
        }
      ]
    },
    {
      "cell_type": "code",
      "source": [
        "import os\n",
        "print(os.listdir())  # see the exact filename"
      ],
      "metadata": {
        "colab": {
          "base_uri": "https://localhost:8080/"
        },
        "id": "N0AlN8azH7R9",
        "outputId": "5439a37c-d867-4048-e412-cb3481f5556c"
      },
      "execution_count": null,
      "outputs": [
        {
          "output_type": "stream",
          "name": "stdout",
          "text": [
            "['.config', 'sensor_Crop_Dataset (1).csv', 'sample_data']\n"
          ]
        }
      ]
    },
    {
      "cell_type": "code",
      "source": [
        "df = pd.read_csv(\"sensor_Crop_Dataset (1).csv\")   # if the file really has .csv"
      ],
      "metadata": {
        "id": "agHJIfjiIB-T"
      },
      "execution_count": null,
      "outputs": []
    },
    {
      "cell_type": "code",
      "source": [
        "import pandas as pd\n",
        "from sklearn.model_selection import train_test_split\n",
        "from sklearn.metrics import accuracy_score\n",
        "from sklearn.preprocessing import LabelEncoder\n",
        "from sklearn.ensemble import RandomForestClassifier\n",
        "\n",
        "# Load your dataset\n",
        "df = pd.read_csv(\"sensor_Crop_Dataset (1).csv\")\n",
        "\n",
        "print(\" Original Columns:\", df.columns)\n",
        "\n",
        "# -------------------------------\n",
        "# Step 1: Add fertilizer rules\n",
        "# -------------------------------\n",
        "def fertilizer_rule(row):\n",
        "    if row['Crop'].lower() == 'wheat':\n",
        "        return \"NPK 10:26:26\"\n",
        "    elif row['Crop'].lower() == 'rice':\n",
        "        return \"Urea 46%\"\n",
        "    elif row['Crop'].lower() == 'maize':\n",
        "        return \"DAP 18:46:0\"\n",
        "    else:\n",
        "        return \"General Fertilizer\"\n",
        "\n",
        "df['recommended_fertilizer'] = df.apply(fertilizer_rule, axis=1)\n",
        "\n",
        "print(\" Added Fertilizer Column\")\n",
        "\n",
        "# -------------------------------\n",
        "# Step 2: Encode categorical values\n",
        "# -------------------------------\n",
        "le_soil = LabelEncoder()\n",
        "le_crop = LabelEncoder()\n",
        "le_fert = LabelEncoder()\n",
        "\n",
        "df['Soil_Type'] = le_soil.fit_transform(df['Soil_Type'])\n",
        "df['Crop'] = le_crop.fit_transform(df['Crop'])\n",
        "df['recommended_fertilizer'] = le_fert.fit_transform(df['recommended_fertilizer'])\n",
        "\n",
        "\n",
        "# -------------------------------\n",
        "# Step 3: Features and target\n",
        "# -------------------------------\n",
        "X = df[['Soil_Type', 'Crop', 'Temperature']]  # features\n",
        "y = df['recommended_fertilizer']  # target\n",
        "\n",
        "# -------------------------------\n",
        "# Step 4: Train-test split\n",
        "# -------------------------------\n",
        "X_train, X_test, y_train, y_test = train_test_split(X, y, test_size=0.2, random_state=42)\n",
        "\n",
        "# -------------------------------\n",
        "# Step 5: Train model\n",
        "# -------------------------------\n",
        "model = RandomForestClassifier()\n",
        "model.fit(X_train, y_train)\n",
        "\n",
        "# -------------------------------\n",
        "# Step 6: Evaluate\n",
        "# -------------------------------\n",
        "y_pred = model.predict(X_test)\n",
        "acc = accuracy_score(y_test, y_pred)\n",
        "\n",
        "print(\" Fertilizer Calculator Accuracy:\", acc * 100, \"%\")"
      ],
      "metadata": {
        "colab": {
          "base_uri": "https://localhost:8080/"
        },
        "id": "pcLz1iZvJMi9",
        "outputId": "30bc9596-db6b-4203-cc66-0929bf91e9e2"
      },
      "execution_count": null,
      "outputs": [
        {
          "output_type": "stream",
          "name": "stdout",
          "text": [
            " Original Columns: Index(['Nitrogen', 'Phosphorus', 'Potassium', 'Temperature', 'Humidity',\n",
            "       'pH_Value', 'Rainfall', 'Crop', 'Soil_Type', 'Variety'],\n",
            "      dtype='object')\n",
            " Added Fertilizer Column\n",
            " Fertilizer Calculator Accuracy: 100.0 %\n"
          ]
        }
      ]
    },
    {
      "cell_type": "code",
      "source": [
        "from google.colab import files\n",
        "\n",
        "uploaded = files.upload()  # This will open a file chooser to select your CSV\n"
      ],
      "metadata": {
        "colab": {
          "base_uri": "https://localhost:8080/",
          "height": 73
        },
        "id": "6EEJQsLQKrIp",
        "outputId": "ad9ea2ed-623b-494d-8e9c-49d6d30b69bf"
      },
      "execution_count": null,
      "outputs": [
        {
          "output_type": "display_data",
          "data": {
            "text/plain": [
              "<IPython.core.display.HTML object>"
            ],
            "text/html": [
              "\n",
              "     <input type=\"file\" id=\"files-98ead96b-f6e0-4096-a714-13df900bbf4c\" name=\"files[]\" multiple disabled\n",
              "        style=\"border:none\" />\n",
              "     <output id=\"result-98ead96b-f6e0-4096-a714-13df900bbf4c\">\n",
              "      Upload widget is only available when the cell has been executed in the\n",
              "      current browser session. Please rerun this cell to enable.\n",
              "      </output>\n",
              "      <script>// Copyright 2017 Google LLC\n",
              "//\n",
              "// Licensed under the Apache License, Version 2.0 (the \"License\");\n",
              "// you may not use this file except in compliance with the License.\n",
              "// You may obtain a copy of the License at\n",
              "//\n",
              "//      http://www.apache.org/licenses/LICENSE-2.0\n",
              "//\n",
              "// Unless required by applicable law or agreed to in writing, software\n",
              "// distributed under the License is distributed on an \"AS IS\" BASIS,\n",
              "// WITHOUT WARRANTIES OR CONDITIONS OF ANY KIND, either express or implied.\n",
              "// See the License for the specific language governing permissions and\n",
              "// limitations under the License.\n",
              "\n",
              "/**\n",
              " * @fileoverview Helpers for google.colab Python module.\n",
              " */\n",
              "(function(scope) {\n",
              "function span(text, styleAttributes = {}) {\n",
              "  const element = document.createElement('span');\n",
              "  element.textContent = text;\n",
              "  for (const key of Object.keys(styleAttributes)) {\n",
              "    element.style[key] = styleAttributes[key];\n",
              "  }\n",
              "  return element;\n",
              "}\n",
              "\n",
              "// Max number of bytes which will be uploaded at a time.\n",
              "const MAX_PAYLOAD_SIZE = 100 * 1024;\n",
              "\n",
              "function _uploadFiles(inputId, outputId) {\n",
              "  const steps = uploadFilesStep(inputId, outputId);\n",
              "  const outputElement = document.getElementById(outputId);\n",
              "  // Cache steps on the outputElement to make it available for the next call\n",
              "  // to uploadFilesContinue from Python.\n",
              "  outputElement.steps = steps;\n",
              "\n",
              "  return _uploadFilesContinue(outputId);\n",
              "}\n",
              "\n",
              "// This is roughly an async generator (not supported in the browser yet),\n",
              "// where there are multiple asynchronous steps and the Python side is going\n",
              "// to poll for completion of each step.\n",
              "// This uses a Promise to block the python side on completion of each step,\n",
              "// then passes the result of the previous step as the input to the next step.\n",
              "function _uploadFilesContinue(outputId) {\n",
              "  const outputElement = document.getElementById(outputId);\n",
              "  const steps = outputElement.steps;\n",
              "\n",
              "  const next = steps.next(outputElement.lastPromiseValue);\n",
              "  return Promise.resolve(next.value.promise).then((value) => {\n",
              "    // Cache the last promise value to make it available to the next\n",
              "    // step of the generator.\n",
              "    outputElement.lastPromiseValue = value;\n",
              "    return next.value.response;\n",
              "  });\n",
              "}\n",
              "\n",
              "/**\n",
              " * Generator function which is called between each async step of the upload\n",
              " * process.\n",
              " * @param {string} inputId Element ID of the input file picker element.\n",
              " * @param {string} outputId Element ID of the output display.\n",
              " * @return {!Iterable<!Object>} Iterable of next steps.\n",
              " */\n",
              "function* uploadFilesStep(inputId, outputId) {\n",
              "  const inputElement = document.getElementById(inputId);\n",
              "  inputElement.disabled = false;\n",
              "\n",
              "  const outputElement = document.getElementById(outputId);\n",
              "  outputElement.innerHTML = '';\n",
              "\n",
              "  const pickedPromise = new Promise((resolve) => {\n",
              "    inputElement.addEventListener('change', (e) => {\n",
              "      resolve(e.target.files);\n",
              "    });\n",
              "  });\n",
              "\n",
              "  const cancel = document.createElement('button');\n",
              "  inputElement.parentElement.appendChild(cancel);\n",
              "  cancel.textContent = 'Cancel upload';\n",
              "  const cancelPromise = new Promise((resolve) => {\n",
              "    cancel.onclick = () => {\n",
              "      resolve(null);\n",
              "    };\n",
              "  });\n",
              "\n",
              "  // Wait for the user to pick the files.\n",
              "  const files = yield {\n",
              "    promise: Promise.race([pickedPromise, cancelPromise]),\n",
              "    response: {\n",
              "      action: 'starting',\n",
              "    }\n",
              "  };\n",
              "\n",
              "  cancel.remove();\n",
              "\n",
              "  // Disable the input element since further picks are not allowed.\n",
              "  inputElement.disabled = true;\n",
              "\n",
              "  if (!files) {\n",
              "    return {\n",
              "      response: {\n",
              "        action: 'complete',\n",
              "      }\n",
              "    };\n",
              "  }\n",
              "\n",
              "  for (const file of files) {\n",
              "    const li = document.createElement('li');\n",
              "    li.append(span(file.name, {fontWeight: 'bold'}));\n",
              "    li.append(span(\n",
              "        `(${file.type || 'n/a'}) - ${file.size} bytes, ` +\n",
              "        `last modified: ${\n",
              "            file.lastModifiedDate ? file.lastModifiedDate.toLocaleDateString() :\n",
              "                                    'n/a'} - `));\n",
              "    const percent = span('0% done');\n",
              "    li.appendChild(percent);\n",
              "\n",
              "    outputElement.appendChild(li);\n",
              "\n",
              "    const fileDataPromise = new Promise((resolve) => {\n",
              "      const reader = new FileReader();\n",
              "      reader.onload = (e) => {\n",
              "        resolve(e.target.result);\n",
              "      };\n",
              "      reader.readAsArrayBuffer(file);\n",
              "    });\n",
              "    // Wait for the data to be ready.\n",
              "    let fileData = yield {\n",
              "      promise: fileDataPromise,\n",
              "      response: {\n",
              "        action: 'continue',\n",
              "      }\n",
              "    };\n",
              "\n",
              "    // Use a chunked sending to avoid message size limits. See b/62115660.\n",
              "    let position = 0;\n",
              "    do {\n",
              "      const length = Math.min(fileData.byteLength - position, MAX_PAYLOAD_SIZE);\n",
              "      const chunk = new Uint8Array(fileData, position, length);\n",
              "      position += length;\n",
              "\n",
              "      const base64 = btoa(String.fromCharCode.apply(null, chunk));\n",
              "      yield {\n",
              "        response: {\n",
              "          action: 'append',\n",
              "          file: file.name,\n",
              "          data: base64,\n",
              "        },\n",
              "      };\n",
              "\n",
              "      let percentDone = fileData.byteLength === 0 ?\n",
              "          100 :\n",
              "          Math.round((position / fileData.byteLength) * 100);\n",
              "      percent.textContent = `${percentDone}% done`;\n",
              "\n",
              "    } while (position < fileData.byteLength);\n",
              "  }\n",
              "\n",
              "  // All done.\n",
              "  yield {\n",
              "    response: {\n",
              "      action: 'complete',\n",
              "    }\n",
              "  };\n",
              "}\n",
              "\n",
              "scope.google = scope.google || {};\n",
              "scope.google.colab = scope.google.colab || {};\n",
              "scope.google.colab._files = {\n",
              "  _uploadFiles,\n",
              "  _uploadFilesContinue,\n",
              "};\n",
              "})(self);\n",
              "</script> "
            ]
          },
          "metadata": {}
        },
        {
          "output_type": "stream",
          "name": "stdout",
          "text": [
            "Saving sensor_Crop_Dataset (1).csv to sensor_Crop_Dataset (1) (1).csv\n"
          ]
        }
      ]
    },
    {
      "cell_type": "code",
      "source": [
        "import os\n",
        "print(os.listdir())\n"
      ],
      "metadata": {
        "colab": {
          "base_uri": "https://localhost:8080/"
        },
        "id": "D7zQeM22Kw7d",
        "outputId": "b1eb5259-b604-4692-d79c-8a3bd33b0ca4"
      },
      "execution_count": null,
      "outputs": [
        {
          "output_type": "stream",
          "name": "stdout",
          "text": [
            "['.config', 'sensor_Crop_Dataset (1).csv', 'sensor_Crop_Dataset (1) (1).csv', 'sample_data']\n"
          ]
        }
      ]
    },
    {
      "cell_type": "code",
      "source": [
        "filename = list(uploaded.keys())[0]  # dynamically get uploaded file name\n",
        "df = pd.read_csv(filename)"
      ],
      "metadata": {
        "id": "oVyitcqtK2g4"
      },
      "execution_count": null,
      "outputs": []
    },
    {
      "cell_type": "code",
      "source": [
        "import pandas as pd\n",
        "\n",
        "data = {\n",
        "    \"soil_type\": [\"loamy\", \"sandy\", \"clayey\", \"loamy\", \"sandy\"],\n",
        "    \"crop_type\": [\"wheat\", \"rice\", \"maize\", \"rice\", \"wheat\"],\n",
        "    \"temperature\": [25, 30, 28, 32, 22]\n",
        "}\n",
        "\n",
        "df = pd.DataFrame(data)\n",
        "df.to_csv(\"dummy_fertilizer_dataset.csv\", index=False)\n",
        "print(\" Dummy dataset created\")\n"
      ],
      "metadata": {
        "colab": {
          "base_uri": "https://localhost:8080/"
        },
        "id": "0sHitZyOLD3W",
        "outputId": "d73fb768-64e1-4e56-cfa1-f822e362df50"
      },
      "execution_count": null,
      "outputs": [
        {
          "output_type": "stream",
          "name": "stdout",
          "text": [
            " Dummy dataset created\n"
          ]
        }
      ]
    },
    {
      "cell_type": "code",
      "source": [
        "df = pd.read_csv(\"dummy_fertilizer_dataset.csv\")"
      ],
      "metadata": {
        "id": "17s_lddKLF60"
      },
      "execution_count": null,
      "outputs": []
    },
    {
      "cell_type": "code",
      "source": [
        "import pandas as pd\n",
        "import numpy as np\n",
        "from sklearn.model_selection import train_test_split\n",
        "from sklearn.preprocessing import LabelEncoder\n",
        "from sklearn.ensemble import RandomForestClassifier\n",
        "from sklearn.metrics import (\n",
        "    accuracy_score, precision_score, recall_score, f1_score,\n",
        "    mean_absolute_error, mean_squared_error, r2_score, classification_report\n",
        ")\n",
        "\n",
        "# ===========================\n",
        "# Step 1: Generate larger synthetic dataset\n",
        "# ===========================\n",
        "np.random.seed(42)\n",
        "\n",
        "soil_types = [\"loamy\", \"sandy\", \"clayey\", \"silty\"]\n",
        "crop_types = [\"wheat\", \"rice\", \"maize\", \"barley\"]\n",
        "temperatures = np.random.randint(20, 35, size=100)  # temperature between 20–35°C\n",
        "\n",
        "data = {\n",
        "    \"soil_type\": np.random.choice(soil_types, size=100),\n",
        "    \"crop_type\": np.random.choice(crop_types, size=100),\n",
        "    \"temperature\": temperatures\n",
        "}\n",
        "\n",
        "df = pd.DataFrame(data)\n",
        "\n",
        "# ===========================\n",
        "# Step 2: Apply fertilizer rules\n",
        "# ===========================\n",
        "def fertilizer_rule(row):\n",
        "    if row['crop_type'].lower() == 'wheat':\n",
        "        return \"NPK 10:26:26\"\n",
        "    elif row['crop_type'].lower() == 'rice':\n",
        "        return \"Urea 46%\"\n",
        "    elif row['crop_type'].lower() == 'maize':\n",
        "        return \"DAP 18:46:0\"\n",
        "    else:\n",
        "        return \"General Fertilizer\"\n",
        "\n",
        "df['recommended_fertilizer'] = df.apply(fertilizer_rule, axis=1)\n",
        "\n",
        "# ===========================\n",
        "# Step 3: Encode categorical variables\n",
        "# ===========================\n",
        "le_soil = LabelEncoder()\n",
        "le_crop = LabelEncoder()\n",
        "le_fert = LabelEncoder()\n",
        "\n",
        "df['soil_type'] = le_soil.fit_transform(df['soil_type'])\n",
        "df['crop_type'] = le_crop.fit_transform(df['crop_type'])\n",
        "df['recommended_fertilizer'] = le_fert.fit_transform(df['recommended_fertilizer'])\n",
        "\n",
        "# ===========================\n",
        "# Step 4: Features and target\n",
        "# ===========================\n",
        "X = df[['soil_type', 'crop_type', 'temperature']]\n",
        "y = df['recommended_fertilizer']\n",
        "\n",
        "# ===========================\n",
        "# Step 5: Stratified Train-test split\n",
        "# ===========================\n",
        "X_train, X_test, y_train, y_test = train_test_split(\n",
        "    X, y, test_size=0.3, random_state=42, stratify=y\n",
        ")\n",
        "\n",
        "# ===========================\n",
        "# Step 6: Train Random Forest model\n",
        "# ===========================\n",
        "model = RandomForestClassifier()\n",
        "model.fit(X_train, y_train)\n",
        "\n",
        "# ===========================\n",
        "# Step 7: Predictions\n",
        "# ===========================\n",
        "y_pred = model.predict(X_test)\n",
        "\n",
        "# ===========================\n",
        "# Step 8: Metrics\n",
        "# ===========================\n",
        "acc = accuracy_score(y_test, y_pred)\n",
        "prec = precision_score(y_test, y_pred, average=\"weighted\")\n",
        "rec = recall_score(y_test, y_pred, average=\"weighted\")\n",
        "f1 = f1_score(y_test, y_pred, average=\"weighted\")\n",
        "mae = mean_absolute_error(y_test, y_pred)\n",
        "rmse = np.sqrt(mean_squared_error(y_test, y_pred))\n",
        "r2 = r2_score(y_test, y_pred)\n",
        "\n",
        "print(\"\\n Fertilizer Calculator Performance:\")\n",
        "print(\" Accuracy:\", round(acc*100, 2), \"%\")\n",
        "print(\" Precision:\", round(prec, 3))\n",
        "print(\" Recall:\", round(rec, 3))\n",
        "print(\" F1-score:\", round(f1, 3))\n",
        "print(\" MAE:\", round(mae, 3))\n",
        "print(\" RMSE:\", round(rmse, 3))\n",
        "print(\" R² Score:\", round(r2, 3))\n",
        "\n",
        "# ===========================\n",
        "# Step 9: Dynamic Classification Report\n",
        "# ===========================\n",
        "classes_in_test = np.unique(y_test)\n",
        "target_names = [le_fert.classes_[i] for i in classes_in_test]\n",
        "\n",
        "print(\"\\n Detailed Classification Report:\\n\", classification_report(y_test, y_pred, target_names=target_names, zero_division=0))\n"
      ],
      "metadata": {
        "colab": {
          "base_uri": "https://localhost:8080/"
        },
        "id": "25TUGtuaMrjN",
        "outputId": "777abbdb-aeb2-40d5-882a-1887ed9038da"
      },
      "execution_count": null,
      "outputs": [
        {
          "output_type": "stream",
          "name": "stdout",
          "text": [
            "\n",
            " Fertilizer Calculator Performance:\n",
            " Accuracy: 93.33 %\n",
            " Precision: 0.95\n",
            " Recall: 0.933\n",
            " F1-score: 0.933\n",
            " MAE: 0.2\n",
            " RMSE: 0.775\n",
            " R² Score: 0.461\n",
            "\n",
            " Detailed Classification Report:\n",
            "                     precision    recall  f1-score   support\n",
            "\n",
            "       DAP 18:46:0       0.75      1.00      0.86         6\n",
            "General Fertilizer       1.00      1.00      1.00         8\n",
            "      NPK 10:26:26       1.00      1.00      1.00         9\n",
            "          Urea 46%       1.00      0.71      0.83         7\n",
            "\n",
            "          accuracy                           0.93        30\n",
            "         macro avg       0.94      0.93      0.92        30\n",
            "      weighted avg       0.95      0.93      0.93        30\n",
            "\n"
          ]
        }
      ]
    }
  ]
}